{
 "cells": [
  {
   "cell_type": "markdown",
   "id": "87d5ff54",
   "metadata": {},
   "source": [
    "# RNN"
   ]
  },
  {
   "cell_type": "markdown",
   "id": "658425dc",
   "metadata": {},
   "source": [
    "本 notebook 将在[手写数字识别作业](https://github.com/BeiYazi0/DL_homework/tree/main/SP)的基础上进行修改，为 简单[框架](https://github.com/BeiYazi0/cnn)增加循环层，并对其进行小小的改动。\n",
    "\n",
    "直接运行 train.py 可训练一个模型。\n",
    "直接运行 test.py 可加载一个模型。"
   ]
  },
  {
   "cell_type": "markdown",
   "id": "063383d9",
   "metadata": {},
   "source": [
    "---"
   ]
  },
  {
   "cell_type": "markdown",
   "id": "8b03aa33",
   "metadata": {},
   "source": [
    "## 1.要求\n",
    "\n",
    "### 1.1模型\n",
    "\n",
    "反向传播 50 个时刻，从第 101 个时刻开始更新权重。"
   ]
  },
  {
   "cell_type": "markdown",
   "id": "454ceb19",
   "metadata": {},
   "source": [
    "### 1.2要求\n",
    "\n",
    "![png](./img/work.png)"
   ]
  },
  {
   "cell_type": "markdown",
   "id": "2374709a",
   "metadata": {},
   "source": [
    "---"
   ]
  },
  {
   "cell_type": "markdown",
   "id": "6877b357",
   "metadata": {},
   "source": [
    "## 2.准备工作"
   ]
  },
  {
   "cell_type": "markdown",
   "id": "67abed6d",
   "metadata": {},
   "source": [
    "### 2.1导入依赖。"
   ]
  },
  {
   "cell_type": "code",
   "execution_count": 1,
   "id": "3518bd77",
   "metadata": {},
   "outputs": [],
   "source": [
    "import numpy as np\n",
    "import matplotlib.pyplot as plt\n",
    "from scipy.io import loadmat\n",
    "from scipy.signal import convolve2d"
   ]
  },
  {
   "cell_type": "markdown",
   "id": "443720ec",
   "metadata": {},
   "source": [
    "### 2.2 POI数据集\n",
    "\n",
    "#### 2.2.1 加载POI数据集\n",
    "\n",
    "可以看到 POI 数据集中 SquPOI 是一个矩阵，其第一个维度大小是 3，包含三维坐标信息。"
   ]
  },
  {
   "cell_type": "code",
   "execution_count": 2,
   "id": "43766bbc",
   "metadata": {
    "scrolled": false
   },
   "outputs": [
    {
     "data": {
      "text/plain": [
       "{'__header__': b'MATLAB 5.0 MAT-file, Platform: PCWIN64, Created on: Thu Jun 11 08:32:17 2020',\n",
       " '__version__': '1.0',\n",
       " '__globals__': [],\n",
       " 'SquPOI': array([[ 1.58580127,  1.66956005,  1.73391882, ...,  2.08913278,\n",
       "          2.45552439,  2.81379444],\n",
       "        [ 2.30682267,  2.1626592 ,  2.08736971, ...,  1.87522737,\n",
       "          1.44400496,  1.2024588 ],\n",
       "        [52.28089488, 50.91113804, 50.89630474, ..., 50.3960555 ,\n",
       "         49.3056074 , 49.58236687]])}"
      ]
     },
     "execution_count": 2,
     "metadata": {},
     "output_type": "execute_result"
    }
   ],
   "source": [
    "data = loadmat('data/POI.mat')\n",
    "data"
   ]
  },
  {
   "cell_type": "markdown",
   "id": "d1d34e5e",
   "metadata": {},
   "source": [
    "数据集的大小为 2427x3。"
   ]
  },
  {
   "cell_type": "code",
   "execution_count": 3,
   "id": "0eee3952",
   "metadata": {},
   "outputs": [
    {
     "data": {
      "text/plain": [
       "(2427, 3)"
      ]
     },
     "execution_count": 3,
     "metadata": {},
     "output_type": "execute_result"
    }
   ],
   "source": [
    "data = data['SquPOI'].T\n",
    "data.shape"
   ]
  },
  {
   "cell_type": "markdown",
   "id": "2ca1af5b",
   "metadata": {},
   "source": [
    "#### 2.2.2 数据格式标准化\n",
    "\n",
    "零均值化，记录均值。"
   ]
  },
  {
   "cell_type": "code",
   "execution_count": 4,
   "id": "0bf63bd6",
   "metadata": {},
   "outputs": [],
   "source": [
    "data_mean = data.mean(axis = 0)\n",
    "data -= data_mean"
   ]
  },
  {
   "cell_type": "markdown",
   "id": "7d865598",
   "metadata": {},
   "source": [
    "训练数据和测试数据"
   ]
  },
  {
   "cell_type": "code",
   "execution_count": 6,
   "id": "78f165e5",
   "metadata": {},
   "outputs": [],
   "source": [
    "X_train = data[:600]\n",
    "y_train = data[1:601]\n",
    "X_test = data[600:-1]\n",
    "y_test = data[601:]"
   ]
  },
  {
   "cell_type": "markdown",
   "id": "0181f853",
   "metadata": {},
   "source": [
    "### 2.3 激活函数\n",
    "#### 2.3.1 ReLU & Sigmoid & Softma"
   ]
  },
  {
   "cell_type": "code",
   "execution_count": 5,
   "id": "115c06b5",
   "metadata": {},
   "outputs": [],
   "source": [
    "def ReLU(z):\n",
    "    '''\n",
    "    ReLU 函数\n",
    "    Args:\n",
    "        z (m, n): 输入\n",
    "    Returns:\n",
    "        g (m, n): ReLU 函数输出\n",
    "    '''\n",
    "    return np.maximum(0, z)\n",
    "\n",
    "def sigmoid(z):\n",
    "    '''\n",
    "    sigmoid 函数\n",
    "    Args:\n",
    "        z (m, n): 输入\n",
    "    Returns:\n",
    "        g (m, n): sigmoid 函数输出\n",
    "    '''\n",
    "    d = 1 + np.exp(-z)\n",
    "    return 1. / d\n",
    "\n",
    "def softmax(z):\n",
    "    '''\n",
    "    softmax 函数\n",
    "    Args:\n",
    "        z (m, n): 输入\n",
    "    Returns:\n",
    "        g (m, n): softmax 函数输出\n",
    "    '''\n",
    "    d = np.exp(z)\n",
    "    # 注意 d sum时的axis\n",
    "    return d / d.sum(axis = 1).reshape(-1, 1)\n",
    "\n",
    "def tanh(z):\n",
    "    '''\n",
    "    tanh 函数\n",
    "    Args:\n",
    "        z (m, n): 输入\n",
    "    Returns:\n",
    "        g (m, n): tanh 函数输出\n",
    "    '''\n",
    "    b = np.exp(z)\n",
    "    c = np.exp(-z)\n",
    "    return (b - c) / (b + c)\n",
    "\n",
    "def Linear(z):\n",
    "    '''\n",
    "    Linear 函数\n",
    "    Args:\n",
    "        z (m, n): 输入\n",
    "    Returns:\n",
    "        g (m, n): Linear 函数输出\n",
    "    '''\n",
    "    return z"
   ]
  },
  {
   "cell_type": "markdown",
   "id": "3491acd0",
   "metadata": {},
   "source": [
    "#### 2.3.2 激活函数的梯度的函数"
   ]
  },
  {
   "cell_type": "code",
   "execution_count": 6,
   "id": "d478823b",
   "metadata": {},
   "outputs": [],
   "source": [
    "def ReLU_gradient(h):\n",
    "    return h > 0\n",
    "\n",
    "def sigmoid_gradient(h):\n",
    "    return np.multiply(h, (1 - h))\n",
    "\n",
    "def softmax_gradient(h):\n",
    "    return np.multiply(h, (1 - h))\n",
    "\n",
    "def tanh_gradient(h):\n",
    "    return 1 - np.power(h, 2)\n",
    "\n",
    "def Linear_gradient(z):\n",
    "    return 1"
   ]
  },
  {
   "cell_type": "markdown",
   "id": "fc0db9e7",
   "metadata": {},
   "source": [
    "---"
   ]
  },
  {
   "cell_type": "markdown",
   "id": "2ea6e52d",
   "metadata": {},
   "source": [
    "## 3.RNN构成\n",
    "\n",
    "### 3.1 循环层\n",
    "\n",
    "循环层的实现原理如图所示，循环层的输出由当前时刻的输入和上一时刻的输出决定。\n",
    "\n",
    "![png](./img/recurrent.png)"
   ]
  },
  {
   "cell_type": "code",
   "execution_count": 7,
   "id": "4dfaf678",
   "metadata": {
    "scrolled": false
   },
   "outputs": [],
   "source": [
    "def recurrent(x, U, W, S_pre, activate_fcn):\n",
    "    '''\n",
    "    循环层输出\n",
    "    Args:\n",
    "        x (n, ): 输入\n",
    "        U (t, n): 参数矩阵\n",
    "        W (t, t): 参数矩阵\n",
    "        S_pre (t, ): 上一时刻的状态\n",
    "        activate_fcn method: 激活函数\n",
    "    Returns:\n",
    "        S_cur (t, ): 当前时刻的状态\n",
    "    '''\n",
    "    return activate_fcn(x @ U.T + S_pre @ W.T)"
   ]
  },
  {
   "cell_type": "markdown",
   "id": "0e0e2c36",
   "metadata": {},
   "source": [
    "### 3.2 输出层"
   ]
  },
  {
   "cell_type": "code",
   "execution_count": 8,
   "id": "a00fda46",
   "metadata": {},
   "outputs": [],
   "source": [
    "def ouput_get(x, V, activate_fcn):\n",
    "    '''\n",
    "    输出层输出\n",
    "    Args:\n",
    "        x (n, ): 输入\n",
    "        V (t, n): 参数矩阵\n",
    "        activate_fcn method: 激活函数\n",
    "    Returns:\n",
    "        out (t, ): 当前时刻的状态\n",
    "    '''\n",
    "    return activate_fcn(x @ V.T)"
   ]
  },
  {
   "cell_type": "markdown",
   "id": "08eadc8a",
   "metadata": {},
   "source": [
    "---"
   ]
  },
  {
   "cell_type": "markdown",
   "id": "a2754058",
   "metadata": {},
   "source": [
    "## 4.构建神经网络"
   ]
  },
  {
   "cell_type": "markdown",
   "id": "e4f93278",
   "metadata": {},
   "source": [
    "### 4.1 前向传播\n",
    "\n",
    "由于循环层的输出不仅与当前时刻的输入有关，还与循环层的状态有关，因此前向传播时每次仅处理一个样本，如图所示。\n",
    "\n",
    "![png](./img/forward.png)"
   ]
  },
  {
   "cell_type": "markdown",
   "id": "d7b9ff3e",
   "metadata": {},
   "source": [
    "### 4.2 反向传播\n",
    "\n",
    "RNN 的反向传播算法 BPTT 的原理图如下。\n",
    "\n",
    "![png](./img/bptt.png)"
   ]
  },
  {
   "cell_type": "markdown",
   "id": "0257cd94",
   "metadata": {},
   "source": [
    "#### 4.2.1 输出层的反向传播\n",
    "\n",
    "这里与全连接网络的输出层的反向传播没有太大区别"
   ]
  },
  {
   "cell_type": "code",
   "execution_count": 6,
   "id": "f2fc9b24",
   "metadata": {},
   "outputs": [],
   "source": [
    "def output_backward(h, a, error, theta, activate_fcn_gradient):\n",
    "    '''\n",
    "    输出层系数更新和反向传播\n",
    "    Args:\n",
    "        h (m, t): 正向传播中输出层的激活项输出\n",
    "        a (m, n): 正向传播中输出层的输入\n",
    "        error (m, t): error[i, :] 表示输出层在第 i 个时刻的误差\n",
    "        theta (t, n): 参数矩阵\n",
    "        activate_fcn_gradient method: 激活函数的梯度函数\n",
    "    Returns:\n",
    "        grad (t, n): 输出层系数的梯度\n",
    "        error_bp (m, n): 输出层向上一层反向传播的误差\n",
    "    '''\n",
    "    # 计算delta\n",
    "    delta = np.multiply(error, activate_fcn_gradient(h))\n",
    "    \n",
    "    # 计算 grad\n",
    "    grad = delta.T @ a \n",
    "    \n",
    "    # 反向传播\n",
    "    error_bp = delta @ theta\n",
    "    \n",
    "    return grad, error_bp"
   ]
  },
  {
   "cell_type": "markdown",
   "id": "87f45ea7",
   "metadata": {},
   "source": [
    "#### 4.2.2 循环层的反向传播\n",
    "\n",
    "当前时刻的循环层，其误差来自于当前时刻的输出层，以及下一时刻的循环层。"
   ]
  },
  {
   "cell_type": "code",
   "execution_count": 7,
   "id": "ed17276b",
   "metadata": {},
   "outputs": [],
   "source": [
    "def recurrent_backward(h, a, S_lst, error, U, W, activate_fcn_gradient):\n",
    "    '''\n",
    "    循环层系数更新和反向传播\n",
    "    Args:\n",
    "        h (m, t): 正向传播中循环层的激活项输出\n",
    "        a (m, n): 正向传播中循环层的输入\n",
    "        S_lst (m, t): 循环层的历史状态值\n",
    "        error (m, t): error[i, :] 表示循环层在第 i 个时刻来自于下一层的误差\n",
    "        U (t, n): 参数矩阵\n",
    "        W (t, t): 参数矩阵\n",
    "        activate_fcn_gradient method: 激活函数的梯度函数\n",
    "    Returns:\n",
    "        grad_U (t, n): 循环层系数 U 的梯度\n",
    "        grad_W (t, t): 循环层系数 W 的梯度\n",
    "        error_bp (m, n): 循环层向上一层反向传播的误差\n",
    "    '''\n",
    "    m, t = error.shape\n",
    "    \n",
    "    # 循环层每一个时刻的delta\n",
    "    delta = np.zeros((m, t))\n",
    "    v_gradient = activate_fcn_gradient(h)\n",
    "    # 最后时刻的循环层误差仅来自于当前时刻的输出层\n",
    "    error_bp_recurrent = np.zeros((1, t))\n",
    "    for i in range(m - 1, -1, -1):\n",
    "        # 当前时刻的循环层，其误差来自于当前时刻的输出层，以及下一时刻的循环层。\n",
    "        t_error = error[i] + error_bp_recurrent\n",
    "        delta[i] = np.multiply(t_error, v_gradient[i])\n",
    "        error_bp_recurrent = delta[i] @ W # 传递给上一时刻循环层的误差\n",
    "    \n",
    "    # 计算 grad\n",
    "    grad_U = delta.T @ a \n",
    "    grad_W = delta.T @ S_lst\n",
    "    \n",
    "    # 反向传播\n",
    "    error_bp = delta @ U\n",
    "    \n",
    "    return grad_U, grad_W, error_bp"
   ]
  },
  {
   "cell_type": "markdown",
   "id": "19229299",
   "metadata": {},
   "source": [
    "### 4.3 损失函数\n",
    "\n",
    "由于输出是一个三维坐标，所以使用均方误差。"
   ]
  },
  {
   "cell_type": "code",
   "execution_count": 8,
   "id": "a661d181",
   "metadata": {},
   "outputs": [],
   "source": [
    "def MSE(h, y):\n",
    "    '''\n",
    "    Mean squared error\n",
    "    Args:\n",
    "        h (m, k): 输出\n",
    "        y (m, k): 真实值, k个类别\n",
    "    Returns:\n",
    "        cost float: 代价\n",
    "    '''\n",
    "    m = y.shape[0]\n",
    "    \n",
    "    # compute the cost\n",
    "    J = np.power(h - y, 2)\n",
    "    cost = np.sum(J)/2/m\n",
    "\n",
    "    return cost"
   ]
  },
  {
   "cell_type": "markdown",
   "id": "0938f21f",
   "metadata": {},
   "source": [
    "### 4.4 层类\n",
    "\n",
    "构建循环神经网络的构件类。\n",
    "\n",
    "包括 Input, Recurrent, Output。\n",
    "\n",
    "Recurrent 类，其部分成员变量和成员方法如下：\n",
    "\n",
    "1. 成员变量：\n",
    "    - U_shape: 参数矩阵的大小\n",
    "    - W_shape: 参数矩阵的大小\n",
    "    - U: 参数矩阵\n",
    "    - W: 参数矩阵\n",
    "    - activate_fcn: 激活函数\n",
    "    - activate_gradient_fcn: 激活函数的梯度函数\n",
    "    - input_shape: 该层输入的维度\n",
    "    - output_shape: 该层输出的维度\n",
    "    - init_state: 初始状态\n",
    "2. 成员方法：\n",
    "    - set_input(x): 设置输入\n",
    "    - fordwrd_propagate(): 前向传播\n",
    "    - backward_propagate(error, lr): 反向传播\n",
    "    - summary(): 返回层类型、输入数据维度、参数量\n",
    "    - save(): 返回用于构建循环层的参数及参数矩阵"
   ]
  },
  {
   "cell_type": "code",
   "execution_count": 9,
   "id": "c6f1dd05",
   "metadata": {},
   "outputs": [],
   "source": [
    "class Recurrent():\n",
    "    __name__ = \"Recurrent\"\n",
    "    '''\n",
    "    循环层\n",
    "    '''\n",
    "    def __init__(self, units, input_shape, activate_fcn, theta = None):\n",
    "        '''\n",
    "        Args:\n",
    "            units int: 输出的维度大小\n",
    "            input_shape int: 输入该网络层的数据维度\n",
    "            activate_fcn string: 激活函数\n",
    "            theta (?): 指定的参数\n",
    "        '''\n",
    "        _dict = NetworkDict(0)\n",
    "        if type(input_shape) != int:\n",
    "            input_shape = input_shape[0]\n",
    "        self.input_shape = (input_shape, )\n",
    "        self.U_shape = (units, input_shape)\n",
    "        self.W_shape = (units, units)\n",
    "        # 初始化\n",
    "        if theta is None or theta.shape != (units, input_shape + units + 1):\n",
    "            self.U = Kaiming_uniform(input_shape, units)\n",
    "            self.W = Kaiming_uniform(units, units)\n",
    "            # 初始状态\n",
    "            self.init_state = np.zeros((1, units))\n",
    "        else:\n",
    "            self.U = theta[:, :input_shape]\n",
    "            self.W = theta[:, input_shape:-1]\n",
    "            self.init_state = theta[:, -1]\n",
    "        \n",
    "        self.activate_fcn = _dict.get_activate_fcn(activate_fcn)\n",
    "        self.activate_gradient_fcn = _dict.get_activate_gradient_fcn(activate_fcn)\n",
    "        self.output_shape = (None, units)\n",
    "        \n",
    "        self._str = np.array([self.__name__, activate_fcn])\n",
    "        \n",
    "        # 输入，激活项\n",
    "        self.x = None\n",
    "        self.a = None"
   ]
  },
  {
   "cell_type": "markdown",
   "id": "ab2f4c72",
   "metadata": {},
   "source": [
    "前向传播\n",
    "这里设定了当发生前向传播时才会修改 init_state，这样方便我们在反向传播时可以知道本次训练的初始状态。"
   ]
  },
  {
   "cell_type": "code",
   "execution_count": 10,
   "id": "ce85aff8",
   "metadata": {},
   "outputs": [],
   "source": [
    "def forward_propagate(self):\n",
    "    batch_size = self.x.shape[0]\n",
    "    units = self.output_shape[1]\n",
    "    output = np.zeros((batch_size, units))\n",
    "\n",
    "    # 修改本次前向传播的初始状态\n",
    "    if self.a is not None:\n",
    "        self.init_state = self.a[-1]\n",
    "\n",
    "    cur_state = self.init_state # 初始状态\n",
    "    for i in range(batch_size):\n",
    "        cur_state = self.recurrent_forward(self.x[i], self.U, self.W, \n",
    "                                           cur_state, self.activate_fcn)\n",
    "        output[i] = cur_state\n",
    "\n",
    "    self.a = output\n",
    "    return self.a"
   ]
  },
  {
   "cell_type": "markdown",
   "id": "8ac4e8e2",
   "metadata": {},
   "source": [
    "反向传播"
   ]
  },
  {
   "cell_type": "code",
   "execution_count": 12,
   "id": "d77b120d",
   "metadata": {},
   "outputs": [],
   "source": [
    "def backward_propagate(self, error, lr):\n",
    "    S_lst = np.concatenate((self.init_state, self.a[:-1]), axis = 0)\n",
    "    grad_U, grad_W, error_bp = self.recurrent_backward(self.a, self.x, error, S_lst, \n",
    "                                                    self.U, self.W, self.activate_gradient_fcn)\n",
    "    self.U -= lr * grad_U\n",
    "    self.W -= lr * grad_W\n",
    "    return error_bp"
   ]
  },
  {
   "cell_type": "markdown",
   "id": "a1b8e9df",
   "metadata": {},
   "source": [
    "返回层的相关参数"
   ]
  },
  {
   "cell_type": "code",
   "execution_count": 11,
   "id": "751586c6",
   "metadata": {},
   "outputs": [],
   "source": [
    "def summary(self):\n",
    "    '''\n",
    "    返回层类型、输入数据维度、参数量\n",
    "    Args:\n",
    "        None\n",
    "    Returns:\n",
    "        __name__ string: 层类型\n",
    "        output_shape tuple(int): 输出数据维度\n",
    "        params int: 参数量\n",
    "    '''\n",
    "    return self.__name__, self.output_shape, np.prod(self.U_shape, dtype=np.int32) + np.prod(self.W_shape, dtype=np.int32)"
   ]
  },
  {
   "cell_type": "markdown",
   "id": "a02ce91d",
   "metadata": {},
   "source": [
    "保存循环层\n",
    "\n",
    "同时保存其状态。"
   ]
  },
  {
   "cell_type": "code",
   "execution_count": null,
   "id": "3b18edc4",
   "metadata": {},
   "outputs": [],
   "source": [
    "def save(self):\n",
    "        '''\n",
    "        返回用于构建循环层的参数及参数矩阵的参数\n",
    "        Args:\n",
    "            None\n",
    "        Returns:\n",
    "            init_params (1, ): 构建隐层的参数\n",
    "            params (input_shape, units): 隐层参数\n",
    "            _str (2, ): 构建卷积层的参数\n",
    "        '''\n",
    "        init_params = np.array([self.U_shape[0]])\n",
    "        if self.a is not None:\n",
    "            self.init_state = self.a[-1]\n",
    "        return init_params, np.concatenate((self.U, self.W, self.init_state.reshape(-1, 1)), axis = 1), self._str"
   ]
  },
  {
   "cell_type": "markdown",
   "id": "dad38dd6",
   "metadata": {},
   "source": [
    "为了便于获取激活函数及其梯度函数，使用 [NetworkDict](cnn/utils/nndict.py) 类来导入相关函数，使用时只需正确输入相应的字符串即可。\n",
    "\n",
    "另外，卷积核的初始化采用了 Kaiming 正态分布的[初始化](cnn/utils/weight_initialization.py)，而隐层参数的初始化采用了 Kaiming 均匀分布的初始化。\n",
    "\n",
    "详见[Pytorch权重初始化方法——Kaiming、Xavier](https://blog.csdn.net/qhaaha/article/details/116141633)。"
   ]
  },
  {
   "cell_type": "markdown",
   "id": "b34cf825",
   "metadata": {},
   "source": [
    "### 4.5 model\n",
    "\n",
    "已经准备好 CNN 的构件，下面实现神经网络，其功能包括添加网络层、配置、训练、预测、评估等。\n",
    "\n",
    "见 [model](cnn/models/model.py)"
   ]
  },
  {
   "cell_type": "markdown",
   "id": "4b6258ed",
   "metadata": {},
   "source": [
    "构造方法\n",
    "\n",
    "规定了网络的输入层、当前输出的形状和神经网络的名字。\n",
    "\n",
    "loss_fcn 由 cnn.losses 中导入。"
   ]
  },
  {
   "cell_type": "code",
   "execution_count": null,
   "id": "c9d39d2d",
   "metadata": {},
   "outputs": [],
   "source": [
    "class Model():\n",
    "    '''\n",
    "    神经网络\n",
    "    '''\n",
    "    def __init__(self, Input_layer, name = \"cnn\"):\n",
    "        '''\n",
    "        Args:\n",
    "            Input_layer <class 'Input'>: 输入层\n",
    "            name string: Model名\n",
    "        Returns:\n",
    "            None\n",
    "        '''\n",
    "        self.input = Input_layer\n",
    "        self.cur_output_shape = Input_layer.input_shape\n",
    "        self.name = name\n",
    "        \n",
    "        self.layers = [] # 网络层\n",
    "        self.lr = 0.0    # 学习率\n",
    "        \n",
    "        self.loss_fcn = None # 损失函数"
   ]
  },
  {
   "cell_type": "markdown",
   "id": "4dbdde99",
   "metadata": {},
   "source": [
    "添加网络层\n",
    "\n",
    "首先判断新加入的层的输入数据维度与模型当前输出数据的维度是否匹配。\n",
    "\n",
    "接着将网络层加入 Model 的 layers 列表中，并修改模型当前输出数据的维度。"
   ]
  },
  {
   "cell_type": "code",
   "execution_count": 3,
   "id": "0cf5c58d",
   "metadata": {},
   "outputs": [],
   "source": [
    "    def add_layer(self, layer):\n",
    "            '''\n",
    "            添加层\n",
    "            Args:\n",
    "                layer <class '?'>: 网络层\n",
    "            Returns:\n",
    "                None\n",
    "            '''\n",
    "            assert layer.input_shape == self.cur_output_shape\n",
    "            self.layers.append(layer)\n",
    "            self.cur_output_shape = layer.output_shape[1:]"
   ]
  },
  {
   "cell_type": "markdown",
   "id": "4d06164f",
   "metadata": {},
   "source": [
    "compile\n",
    "\n",
    "model.compile()的作用就是为搭建好的神经网络模型设置损失函数loss、优化器optimizer、准确性评价函数metrics。\n",
    "\n",
    "例如\n",
    "    - model.compile(optimizer = Adam(learning_rate=learning_rate),\n",
    "                 loss = 'sparse_categorical_crossentropy',\n",
    "                 metrics = ['sparse_categorical_accuracy'])\n",
    "\n",
    "由于能力有限，在 Model 中，compile 用于指定学习率和设置损失函数和评估函数。"
   ]
  },
  {
   "cell_type": "code",
   "execution_count": 4,
   "id": "11a7fb50",
   "metadata": {},
   "outputs": [],
   "source": [
    "    def compile(self, learning_rate, loss_fcn = \"cross_tropy\", accuracy_fcn = \"categorical_accuracy\"):\n",
    "        '''\n",
    "        设置损失函数 loss、学习率 learning_rate 和评估函数\n",
    "        Args:\n",
    "            learning_rate float: 学习率\n",
    "            loss_fcn string: 损失函数\n",
    "            accuracy_fcn string: 评估函数 \n",
    "        Returns:\n",
    "            None\n",
    "        '''\n",
    "        assert learning_rate > 1e-6 and learning_rate < 1\n",
    "        self.lr = learning_rate\n",
    "        self.loss_fcn_name = loss_fcn\n",
    "        self.accuracy_fcn_name = accuracy_fcn\n",
    "        \n",
    "        loss_dic = {\"cross_tropy\": cross_tropy}\n",
    "        self.loss_fcn = loss_dic[loss_fcn] if loss_fcn in loss_dic else MSE\n",
    "        \n",
    "        accuracy_dic = {\"categorical_accuracy\": categorical_accuracy, \"MAE\": MAE}\n",
    "        self.accuracy_fcn = accuracy_dic[accuracy_fcn] if accuracy_fcn in accuracy_dic else MAE\n",
    "        \n",
    "        output_layer = self.layers[-1]\n",
    "        output_layer.set_flag(loss_fcn == \"cross_tropy\")"
   ]
  },
  {
   "cell_type": "markdown",
   "id": "b1bad924",
   "metadata": {},
   "source": [
    "前向传播和后向传播\n",
    "\n",
    "由于我们已经在各个网络层对应的类中定义了前向传播和后向传播，因此只需要依次调用各层的前后向传播即可实现 Model 的前后向传播，so easy。"
   ]
  },
  {
   "cell_type": "code",
   "execution_count": 7,
   "id": "9d360f18",
   "metadata": {},
   "outputs": [],
   "source": [
    "def forward(self):\n",
    "        '''\n",
    "        前向传播\n",
    "        Args:\n",
    "            None\n",
    "        Returns:\n",
    "            a (m, k): 输出\n",
    "        '''\n",
    "        a = self.input.forward_propagate()\n",
    "        for layer in self.layers:\n",
    "            layer.set_input(a)\n",
    "            a = layer.forward_propagate()\n",
    "        return a\n",
    "\n",
    "    def backward(self, error):\n",
    "        '''\n",
    "        反向传播\n",
    "        Args:\n",
    "            error (N, k): 误差\n",
    "        Returns:\n",
    "            None\n",
    "        '''\n",
    "        for layer in self.layers[::-1]:\n",
    "            error = layer.backward_propagate(error, self.lr)"
   ]
  },
  {
   "cell_type": "markdown",
   "id": "47508955",
   "metadata": {},
   "source": [
    "训练\n",
    "\n",
    "Model.fit() 将训练数据在模型中训练一定次数，返回loss和测量指标，其典型的参数如下。\n",
    "\n",
    "|参数|含义|\n",
    "|---|---|\n",
    "|x\t|输入|\n",
    "|y\t|输出|\n",
    "|batch_size|每一个batch的大小（批尺寸），即训练一次网络所用的样本数|\n",
    "|epochs|迭代次数，即全部样本数据将被“轮”多少次，轮完训练停止|\n",
    "|verbose|0:不输出信息；1:显示进度条(一般默认为1)；2:每个epoch输出一行记录|\n",
    "|validation_split|(0,1)的浮点数，分割数据当验证数据，其它当训练数据|\n",
    "|validation_data|指定验证数据，该数据将覆盖validation_spilt设定的数据|\n",
    "|validation_freq|指定验证数据的epoch|\n",
    "|callback|在每个training/epoch/batch结束时，可以通过回调函数Callbacks查看一些内部信息|\n",
    "\n",
    "本 Model 的参数暂未采用验证集相关参数和 callback。\n",
    "\n",
    "值得注意的是，通过 callback 可以在训练中适当修改学习率（如每经过 30 epoch 学习率减半）。\n",
    "\n",
    "batch_size 默认为 -1，此时为批量，另外需要注意样本数不能恰好分成 batch_size 份的情况。\n",
    "\n",
    "shuffle 默认为 True，执行将训练模型的数据集进行打乱的操作，详见[TF模型训练中数据shuffle对模型性能的影响](https://blog.csdn.net/pearl8899/article/details/121792312)。"
   ]
  },
  {
   "cell_type": "code",
   "execution_count": null,
   "id": "8bcc01e6",
   "metadata": {},
   "outputs": [],
   "source": [
    "    def fit(self, x, y, batch_size = -1, epochs = 1, verbose = 1, shuffle = True):\n",
    "        '''\n",
    "        训练模型\n",
    "        Args:\n",
    "            x (N, C, H, W): 输入\n",
    "            y (N, k): 输出\n",
    "            batch_size int: 每次梯度更新的样本数\n",
    "            epochs int: 训练模型迭代次数\n",
    "            verbose int: 日志展示\n",
    "                0:不在标准输出流输出日志信息\n",
    "                1:显示进度条\n",
    "                2:每个epoch输出一行记录\n",
    "            shuffle boolean: 是否在每轮迭代之前混洗数据\n",
    "        Returns:\n",
    "            history dict{string: (epochs, )}: 准确率和损失历史值\n",
    "        '''\n",
    "        N = x.shape[0]                         # 样本数量\n",
    "        batchs = int(np.ceil(N / batch_size))  # 总 batch 数\n",
    "        index = np.arange(N)                   # 用于随机打乱的索引\n",
    "\n",
    "        # 默认为批量\n",
    "        if batch_size == -1:\n",
    "            batch_size = N\n",
    "\n",
    "        history = {\"type\": self.accuracy_fcn_name, \"accuracy\": np.zeros((epochs)), \"loss\": np.zeros((epochs))}\n",
    "        print(\"Model train start.\")\n",
    "        print(\"=================================================================\")\n",
    "        for i in range(epochs):\n",
    "            self.state_zero() # 循环层状态初始化\n",
    "            if shuffle: # 每轮 epoch 打乱数据\n",
    "                np.random.shuffle(index)\n",
    "                x = x[index]\n",
    "                y = y[index]\n",
    "            h = np.zeros(y.shape) # 每轮的输出\n",
    "            for j in range(0, N, batch_size):\n",
    "                k = min(j+batch_size, N)\n",
    "                Xs = x[j:k] # 每次取 batch_size 个数据\n",
    "                ys = y[j:k]\n",
    "                self.input.set_input(Xs)\n",
    "\n",
    "                # 前向传播\n",
    "                a = self.forward()\n",
    "                h[j:k] = a\n",
    "\n",
    "                if verbose == 1: # batch 日志\n",
    "                    accuracy, _ = self.accuracy_fcn(y[j:k], a)\n",
    "                    print(\"batch %8s/%-8s\\t%s\\tloss: %-10s\" % (j//batch_size+1, batchs, accuracy, np.round(self.loss_fcn(a, ys), 6)))\n",
    "\n",
    "                # 后向传播\n",
    "                self.backward(a - ys)\n",
    "\n",
    "            history[\"loss\"][i] = self.loss_fcn(h, y)\n",
    "            accuracy, history[\"accuracy\"][i] = self.accuracy_fcn(y, h)\n",
    "            if verbose > 0: # epoch 日志\n",
    "                print(\"_________________________________________________________________\")\n",
    "                print(\"epoch %8s/%-8s\\t%s\\tloss: %-10s\" % (i+1, epochs, accuracy, np.round(history[\"loss\"][i], 6)))\n",
    "                print(\"=================================================================\")\n",
    "        return history"
   ]
  },
  {
   "cell_type": "markdown",
   "id": "147d8800",
   "metadata": {},
   "source": [
    "预测和评估\n",
    "\n",
    "训练好的模型可以对新的数据做出预测和评估。"
   ]
  },
  {
   "cell_type": "code",
   "execution_count": null,
   "id": "8fe63515",
   "metadata": {},
   "outputs": [],
   "source": [
    "    def predict(self, test_data):\n",
    "        '''\n",
    "        预测输出\n",
    "        Args:\n",
    "            test_data (m, n): 输入\n",
    "        Return:\n",
    "            a (m, k): 输出\n",
    "        '''\n",
    "        self.input.set_input(test_data)\n",
    "        return self.forward()\n",
    "    \n",
    "    def predict_classes(self, test_data):\n",
    "        '''\n",
    "        预测分类，分类问题时使用\n",
    "        Args:\n",
    "            test_data (m, n): 输入\n",
    "        Return:\n",
    "            classes (m, 1): 输出\n",
    "        '''\n",
    "        return self.predict(test_data).argmax(axis = 1)\n",
    "    \n",
    "    def evaluate(self, x_test, y_test):\n",
    "        '''\n",
    "        模型在测试数据上的准确率和损失\n",
    "        Args:\n",
    "            x_test (m, n): 输入\n",
    "            y_test (m, k): label\n",
    "        Return:\n",
    "            accuracy float: 准确率\n",
    "            loss float: 损失\n",
    "        '''\n",
    "        a = self.predict(x_test)\n",
    "        return self.accuracy_fcn(y_test, a)[0], self.loss_fcn(a, y_test)"
   ]
  },
  {
   "cell_type": "markdown",
   "id": "586f7921",
   "metadata": {},
   "source": [
    "查看 Model 的构成\n",
    "\n",
    "可以查看模型的网络层构成、各层的输出及其参数量。"
   ]
  },
  {
   "cell_type": "code",
   "execution_count": null,
   "id": "5d4d0f88",
   "metadata": {},
   "outputs": [],
   "source": [
    "    def summary(self):\n",
    "        '''\n",
    "        查看模型各个层的组成\n",
    "        Args:\n",
    "            None\n",
    "        Returns:\n",
    "            None\n",
    "        '''\n",
    "        total_params = 0\n",
    "        print(\"model name: \" + self.name)\n",
    "        print(\"_________________________________________________________________\")\n",
    "        print(\"Layer                        Output Shape              Param #   \")\n",
    "        print(\"=================================================================\")\n",
    "        for layer in self.layers:\n",
    "            name, input_shape, params = layer.summary()\n",
    "            total_params += params\n",
    "            print(\"%-29s%-26s%-28s\" % (name, input_shape, params))\n",
    "            print(\"_________________________________________________________________\")\n",
    "        print(\"=================================================================\")\n",
    "        print(\"Total params: %d\" % total_params)\n",
    "        print(\"_________________________________________________________________\")"
   ]
  },
  {
   "cell_type": "markdown",
   "id": "a5d80957",
   "metadata": {},
   "source": [
    "### 4.6 模型保存和加载\n",
    "\n",
    "经过上面的讨论，我们已经具备了搭建一个简单的神经网络的能力，在进行训练前，我们需要思考的是，对于一个训练好的模型，我们应当如何将其保存，以便后面需要再次使用或者继续训练时可以重新加载模型。\n",
    "\n",
    "一般来说，深度学习的训练数据和训练后的参数都会保存为h5格式文件，这里我们只保存参数。\n",
    "\n",
    "h5 文件的读写详见[python操作h5(h5py)文件](https://zhuanlan.zhihu.com/p/549538285)。"
   ]
  },
  {
   "cell_type": "markdown",
   "id": "6eab8edf",
   "metadata": {},
   "source": [
    "#### 4.6.1 模型保存\n",
    "\n",
    "见[modelSave](cnn/models/modelSave.py)。\n",
    "\n",
    "1. 对于模型来说，需要保存以下变量：\n",
    "    - input_shape\n",
    "    - lr\n",
    "    - layer_cnt: 网络层的数量\n",
    "    - name\n",
    "    - loss_fcn_name: 损失函数\n",
    "2. 对于网络层来说，需要保存以下变量：\n",
    "    - init_params: 用于构建层的参数 (卷积层：[filters, kernel_size, stride])\n",
    "    - params: 层的参数 (卷积层: kernel)\n",
    "    - _str: 相关的字符串列表 （卷积层：[\"Conv2D\", padding(如\"valid\"), activate_fcn（如\"ReLU\"）]\n",
    "\n",
    "值得注意的是，不是所有的层都会有 params 或 init_params (如 flatten 层)。"
   ]
  },
  {
   "cell_type": "code",
   "execution_count": null,
   "id": "e20aabed",
   "metadata": {},
   "outputs": [],
   "source": [
    "def save_model(filename, model):\n",
    "    '''\n",
    "    模型保存\n",
    "    Args:\n",
    "        filename string: 文件名\n",
    "        model <class 'Model'>: 模型\n",
    "    Returns:\n",
    "        None\n",
    "    '''\n",
    "    # 创建文件\n",
    "    f = h5py.File(filename, \"w\")\n",
    "    \n",
    "    # 存储模型的成员变量\n",
    "    f.create_dataset(\"input_shape\", data = model.input.input_shape)\n",
    "    f.create_dataset(\"lr\", data = model.lr)\n",
    "    f.create_dataset(\"layer_cnt\", data = len(model.layers))\n",
    "    # 字符串的存储\n",
    "    dt = h5py.special_dtype(vlen = str)\n",
    "    data = np.array([model.name, model.loss_fcn_name, model.accuracy_fcn_name])\n",
    "    ds = f.create_dataset('name', data.shape, dtype = dt)\n",
    "    ds[:] = data\n",
    "\n",
    "    # 存储网络层\n",
    "    for i, layer in enumerate(model.layers):\n",
    "        save_layer(f, f\"layer_{i}\", layer)\n",
    "    \n",
    "    f.close()"
   ]
  },
  {
   "cell_type": "code",
   "execution_count": null,
   "id": "54fbf7c3",
   "metadata": {},
   "outputs": [],
   "source": [
    "def save_layer(f, group_name, layer):\n",
    "    '''\n",
    "    网络层保存\n",
    "    Args:\n",
    "        f <class 'h5py._hl.files.File'>: h5文件\n",
    "        group_name string: 组名\n",
    "        layer <class '?'>: 网络层\n",
    "    Returns:\n",
    "        None\n",
    "    '''\n",
    "    # 创建组\n",
    "    cur_group = f.create_group(group_name)\n",
    "    \n",
    "    # 获取参数\n",
    "    init_params, params, _str = layer.save()\n",
    "    \n",
    "    # 存储 string\n",
    "    dt = h5py.special_dtype(vlen = str)\n",
    "    ds = cur_group.create_dataset('_str', _str.shape, dtype = dt)\n",
    "    ds[:] = _str\n",
    "    \n",
    "    # 存储构建参数\n",
    "    if init_params is None:\n",
    "        cur_group.create_dataset('init_params_flag', data = 0)\n",
    "    else:\n",
    "        cur_group.create_dataset('init_params_flag', data = 1)\n",
    "        cur_group.create_dataset('init_params', data = init_params)\n",
    "        \n",
    "    # 存储参数\n",
    "    if params is None:\n",
    "        cur_group.create_dataset('params_flag', data = 0)\n",
    "    else:\n",
    "        cur_group.create_dataset('params_flag', data = 1)\n",
    "        cur_group.create_dataset('params', data = params)\n",
    "\n"
   ]
  },
  {
   "cell_type": "markdown",
   "id": "2ec96c2b",
   "metadata": {},
   "source": [
    "#### 4.6.2 模型加载\n",
    "\n",
    "见[modelLoad](cnn/models/modelLoad.py)。\n",
    "\n",
    "根据 model 的参数对其重构是较为简单的，难点在于恢复其网络层及可能的参数。\n",
    "\n",
    "对卷积层、隐层和输出层的构造方法稍作修改，加入可以指定参数（如卷积核）的情况，若不指定则作初始化。\n",
    "\n",
    "值得注意的是，初始化网络层的 input_shape 来自于 model 的 cur_output_shape。"
   ]
  },
  {
   "cell_type": "code",
   "execution_count": null,
   "id": "0e5d5b2c",
   "metadata": {},
   "outputs": [],
   "source": [
    "def load_model(filename):\n",
    "    '''\n",
    "    模型加载\n",
    "    Args:\n",
    "        filename string: 文件名\n",
    "    Returns:\n",
    "        model <class 'Model'>: 模型\n",
    "    '''\n",
    "    # 读取文件\n",
    "    f = h5py.File(filename, \"r\")\n",
    "    \n",
    "    # 构建 Model\n",
    "    input_layer = Input(tuple(f[\"/input_shape\"][:].tolist()))\n",
    "    name = f[\"/name\"][:].astype('<U32')\n",
    "    model = Model(input_layer, name[0])\n",
    "    \n",
    "    # 添加网络层\n",
    "    layer_cnt = f[\"/layer_cnt\"][()]\n",
    "    for i in range(layer_cnt):\n",
    "        model.add_layer(load_layer(f, f\"/layer_{i}\", model.cur_output_shape))\n",
    "    \n",
    "    # compile\n",
    "    lr = f[\"lr\"][()]\n",
    "    model.compile(lr, name[1], name[2])\n",
    "    \n",
    "    f.close()\n",
    "    return model"
   ]
  },
  {
   "cell_type": "code",
   "execution_count": null,
   "id": "fd014e12",
   "metadata": {},
   "outputs": [],
   "source": [
    "def load_layer(f, group_name, input_shape):\n",
    "    '''\n",
    "    网络层加载\n",
    "    Args:\n",
    "        f <class 'h5py._hl.files.File'>: h5文件\n",
    "        group_name string: 组名\n",
    "        input_shape <?>: 输入数据维度\n",
    "    Returns:\n",
    "        layer <class '?'>: 网络层\n",
    "    '''\n",
    "    # 指定组\n",
    "    cur_group = f[group_name]\n",
    "    \n",
    "    # 获取参数\n",
    "    if cur_group[\"init_params_flag\"][()] == 1:\n",
    "        init_params = cur_group[\"init_params\"][:].tolist()\n",
    "    else:\n",
    "        init_params = []\n",
    "    init_params.append(input_shape)\n",
    "        \n",
    "    _str = cur_group[\"_str\"][:].astype('<U32').tolist()\n",
    "    layer_class = layer_dic[_str[0]]\n",
    "    layer_params = init_params + _str[1:]\n",
    "    if cur_group[\"params_flag\"][()] == 1:\n",
    "        layer_params.append(cur_group[\"params\"][:])\n",
    "    \n",
    "    return layer_class(*layer_params)"
   ]
  },
  {
   "cell_type": "markdown",
   "id": "e62b43b4",
   "metadata": {},
   "source": [
    "### 4.7 可视化\n",
    "\n",
    "见[visualization.py](cnn/utils/visualization.py)。"
   ]
  },
  {
   "cell_type": "markdown",
   "id": "9c780235",
   "metadata": {},
   "source": [
    "#### 4.7.1 accuracy & loss 可视化\n",
    "\n",
    "将 model.fit() 得到的 history 可视化。\n",
    "\n",
    "accuracy 的 title 由 模型的评估函数决定。"
   ]
  },
  {
   "cell_type": "code",
   "execution_count": null,
   "id": "aca53b93",
   "metadata": {},
   "outputs": [],
   "source": [
    "def history_show(history, accuracy_file = None, loss_file = None):\n",
    "    # accuracy的历史\n",
    "    plt.plot(history['accuracy'])\n",
    "    plt.title('model %s' % history['type'])\n",
    "    plt.ylabel('accuracy')\n",
    "    plt.xlabel('epoch')\n",
    "    plt.legend(['train'], loc='upper left')\n",
    "    if accuracy_file is not None:\n",
    "        plt.savefig(accuracy_file)\n",
    "    plt.show()\n",
    "    # loss的历史\n",
    "    plt.plot(history['loss'])\n",
    "    plt.title('model loss')\n",
    "    plt.ylabel('loss')\n",
    "    plt.xlabel('epoch')\n",
    "    plt.legend(['train'], loc='upper left')\n",
    "    if loss_file is not None:\n",
    "        plt.savefig(loss_file)\n",
    "    plt.show()"
   ]
  },
  {
   "cell_type": "markdown",
   "id": "f65cae39",
   "metadata": {},
   "source": [
    "---"
   ]
  },
  {
   "cell_type": "markdown",
   "id": "a7046216",
   "metadata": {},
   "source": [
    "## 5. POI\n",
    "\n",
    "见[train](train.py)。\n",
    "\n",
    "设置 batch_size 为 50，截断反向传播，训练 6 轮。\n",
    "\n",
    "注意到 RNN 对输入数据顺序的敏感，训练时不应当打乱顺序。\n",
    "\n",
    "由于本次模型处理回归问题，因此在 compile 时应当选择 MAE(平均绝对误差) 作为评估函数。"
   ]
  },
  {
   "cell_type": "code",
   "execution_count": 7,
   "id": "57f40b3c",
   "metadata": {
    "scrolled": false
   },
   "outputs": [
    {
     "name": "stdout",
     "output_type": "stream",
     "text": [
      "model name: POI_rnn\n",
      "_________________________________________________________________\n",
      "Layer                        Output Shape              Param #   \n",
      "=================================================================\n",
      "Recurrent                    (None, 10)                130                         \n",
      "_________________________________________________________________\n",
      "Output                       (None, 3)                 30                          \n",
      "_________________________________________________________________\n",
      "=================================================================\n",
      "Total params: 160\n",
      "_________________________________________________________________\n"
     ]
    }
   ],
   "source": [
    "from cnn.layers import *\n",
    "from cnn.models import Model\n",
    "import numpy as np\n",
    "from scipy.io import loadmat\n",
    "\n",
    "data = loadmat('data/POI.mat')\n",
    "data = data['SquPOI'].T\n",
    "data_mean = data.mean(axis = 0)\n",
    "data -= data_mean\n",
    "\n",
    "X_train = data[:600]\n",
    "y_train = data[1:601]\n",
    "X_test = data[600:-1]\n",
    "y_test = data[601:]\n",
    "\n",
    "\n",
    "input_layer = Input((3, ))\n",
    "model = Model(input_layer, \"POI_rnn\")\n",
    "\n",
    "# 添加网络层\n",
    "model.add_layer(Recurrent(10, 3, activate_fcn = \"tanh\"))\n",
    "model.add_layer(Output(3, 10, activate_fcn = \"Linear\"))\n",
    "\n",
    "model.compile(0.01, \"MSE\", \"MAE\")\n",
    "\n",
    "model.summary()"
   ]
  },
  {
   "cell_type": "markdown",
   "id": "0aac1df1",
   "metadata": {},
   "source": [
    "开始训练"
   ]
  },
  {
   "cell_type": "code",
   "execution_count": 14,
   "id": "e6e3d4b1",
   "metadata": {},
   "outputs": [
    {
     "name": "stdout",
     "output_type": "stream",
     "text": [
      "Model train start.\n",
      "=================================================================\n",
      "batch        1/12      \tMAE: 0.476906  \tloss: 0.095746  \n",
      "batch        2/12      \tMAE: 0.376544  \tloss: 0.04496   \n",
      "batch        3/12      \tMAE: 0.359027  \tloss: 0.044858  \n",
      "batch        4/12      \tMAE: 0.319768  \tloss: 0.035351  \n",
      "batch        5/12      \tMAE: 0.317886  \tloss: 0.03679   \n",
      "batch        6/12      \tMAE: 0.310848  \tloss: 0.031969  \n",
      "batch        7/12      \tMAE: 0.307464  \tloss: 0.028692  \n",
      "batch        8/12      \tMAE: 0.320056  \tloss: 0.036432  \n",
      "batch        9/12      \tMAE: 0.333059  \tloss: 0.03549   \n",
      "batch       10/12      \tMAE: 0.321561  \tloss: 0.035656  \n",
      "batch       11/12      \tMAE: 0.32462   \tloss: 0.035984  \n",
      "batch       12/12      \tMAE: 0.287761  \tloss: 0.029567  \n",
      "_________________________________________________________________\n",
      "epoch        1/6       \tMAE: 0.337958  \tloss: 0.040958  \n",
      "=================================================================\n",
      "batch        1/12      \tMAE: 0.461108  \tloss: 0.098276  \n",
      "batch        2/12      \tMAE: 0.340798  \tloss: 0.043139  \n",
      "batch        3/12      \tMAE: 0.33813   \tloss: 0.044718  \n",
      "batch        4/12      \tMAE: 0.315383  \tloss: 0.038974  \n",
      "batch        5/12      \tMAE: 0.31722   \tloss: 0.039415  \n",
      "batch        6/12      \tMAE: 0.324858  \tloss: 0.035778  \n",
      "batch        7/12      \tMAE: 0.335744  \tloss: 0.035032  \n",
      "batch        8/12      \tMAE: 0.323746  \tloss: 0.038365  \n",
      "batch        9/12      \tMAE: 0.347186  \tloss: 0.040363  \n",
      "batch       10/12      \tMAE: 0.319389  \tloss: 0.03653   \n",
      "batch       11/12      \tMAE: 0.330096  \tloss: 0.038426  \n",
      "batch       12/12      \tMAE: 0.312997  \tloss: 0.03437   \n",
      "_________________________________________________________________\n",
      "epoch        2/6       \tMAE: 0.338888  \tloss: 0.043615  \n",
      "=================================================================\n",
      "batch        1/12      \tMAE: 0.489696  \tloss: 0.111055  \n",
      "batch        2/12      \tMAE: 0.359792  \tloss: 0.048232  \n",
      "batch        3/12      \tMAE: 0.329523  \tloss: 0.045887  \n",
      "batch        4/12      \tMAE: 0.333321  \tloss: 0.040422  \n",
      "batch        5/12      \tMAE: 0.310272  \tloss: 0.0374    \n",
      "batch        6/12      \tMAE: 0.315699  \tloss: 0.031434  \n",
      "batch        7/12      \tMAE: 0.303543  \tloss: 0.030052  \n",
      "batch        8/12      \tMAE: 0.305749  \tloss: 0.032718  \n",
      "batch        9/12      \tMAE: 0.327067  \tloss: 0.036264  \n",
      "batch       10/12      \tMAE: 0.299952  \tloss: 0.031986  \n",
      "batch       11/12      \tMAE: 0.314702  \tloss: 0.034008  \n",
      "batch       12/12      \tMAE: 0.297881  \tloss: 0.029075  \n",
      "_________________________________________________________________\n",
      "epoch        3/6       \tMAE: 0.332266  \tloss: 0.042378  \n",
      "=================================================================\n",
      "batch        1/12      \tMAE: 0.464005  \tloss: 0.103954  \n",
      "batch        2/12      \tMAE: 0.322333  \tloss: 0.036337  \n",
      "batch        3/12      \tMAE: 0.29643   \tloss: 0.035629  \n",
      "batch        4/12      \tMAE: 0.300266  \tloss: 0.031936  \n",
      "batch        5/12      \tMAE: 0.26965   \tloss: 0.027382  \n",
      "batch        6/12      \tMAE: 0.274168  \tloss: 0.023038  \n",
      "batch        7/12      \tMAE: 0.254825  \tloss: 0.020426  \n",
      "batch        8/12      \tMAE: 0.271806  \tloss: 0.025259  \n",
      "batch        9/12      \tMAE: 0.300596  \tloss: 0.029598  \n",
      "batch       10/12      \tMAE: 0.278992  \tloss: 0.026876  \n",
      "batch       11/12      \tMAE: 0.289695  \tloss: 0.028007  \n",
      "batch       12/12      \tMAE: 0.263067  \tloss: 0.022711  \n",
      "_________________________________________________________________\n",
      "epoch        4/6       \tMAE: 0.298819  \tloss: 0.034263  \n",
      "=================================================================\n",
      "batch        1/12      \tMAE: 0.444432  \tloss: 0.097217  \n",
      "batch        2/12      \tMAE: 0.299354  \tloss: 0.030787  \n",
      "batch        3/12      \tMAE: 0.282491  \tloss: 0.03201   \n",
      "batch        4/12      \tMAE: 0.284088  \tloss: 0.028807  \n",
      "batch        5/12      \tMAE: 0.249325  \tloss: 0.024314  \n",
      "batch        6/12      \tMAE: 0.257974  \tloss: 0.020675  \n",
      "batch        7/12      \tMAE: 0.24208   \tloss: 0.017964  \n",
      "batch        8/12      \tMAE: 0.260955  \tloss: 0.022964  \n",
      "batch        9/12      \tMAE: 0.294436  \tloss: 0.027974  \n",
      "batch       10/12      \tMAE: 0.276535  \tloss: 0.025411  \n",
      "batch       11/12      \tMAE: 0.277876  \tloss: 0.025741  \n",
      "batch       12/12      \tMAE: 0.248857  \tloss: 0.020332  \n",
      "_________________________________________________________________\n",
      "epoch        5/6       \tMAE: 0.284867  \tloss: 0.031183  \n",
      "=================================================================\n",
      "batch        1/12      \tMAE: 0.434387  \tloss: 0.09264   \n",
      "batch        2/12      \tMAE: 0.293261  \tloss: 0.028821  \n",
      "batch        3/12      \tMAE: 0.276366  \tloss: 0.030315  \n",
      "batch        4/12      \tMAE: 0.276094  \tloss: 0.027034  \n",
      "batch        5/12      \tMAE: 0.239935  \tloss: 0.022446  \n",
      "batch        6/12      \tMAE: 0.249023  \tloss: 0.019178  \n",
      "batch        7/12      \tMAE: 0.229855  \tloss: 0.016175  \n",
      "batch        8/12      \tMAE: 0.252594  \tloss: 0.02114   \n",
      "batch        9/12      \tMAE: 0.28635   \tloss: 0.026195  \n",
      "batch       10/12      \tMAE: 0.271093  \tloss: 0.023751  \n",
      "batch       11/12      \tMAE: 0.266095  \tloss: 0.023708  \n",
      "batch       12/12      \tMAE: 0.238022  \tloss: 0.018297  \n",
      "_________________________________________________________________\n",
      "epoch        6/6       \tMAE: 0.27609   \tloss: 0.029142  \n",
      "=================================================================\n",
      "训练用时:0.04965806007385254秒\n"
     ]
    }
   ],
   "source": [
    "import time\n",
    "\n",
    "T1 = time.time()\n",
    "history = model.fit(X_train, y_train, batch_size = 50, epochs = 6, verbose = 1, shuffle = False)\n",
    "T2 = time.time()\n",
    "print('训练用时:%s秒' % ((T2 - T1)))"
   ]
  },
  {
   "cell_type": "markdown",
   "id": "d60dca87",
   "metadata": {},
   "source": [
    "保存模型\n",
    "\n",
    "这里先保存的原因是希望保存经过训练集后具有特定状态的RNN。"
   ]
  },
  {
   "cell_type": "code",
   "execution_count": 15,
   "id": "46c96766",
   "metadata": {},
   "outputs": [],
   "source": [
    "model.save(\"model\\\\POI_rnn.h5\")"
   ]
  },
  {
   "cell_type": "markdown",
   "id": "181408c0",
   "metadata": {},
   "source": [
    "模型在测试集上的表现\n",
    "\n",
    "可以看到平均绝对误差为 0.256， 损失为 0.022。"
   ]
  },
  {
   "cell_type": "code",
   "execution_count": 16,
   "id": "1ef511d7",
   "metadata": {
    "scrolled": true
   },
   "outputs": [
    {
     "name": "stdout",
     "output_type": "stream",
     "text": [
      "('MAE: 0.255703  ', 0.0215305946805488)\n"
     ]
    }
   ],
   "source": [
    "print(model.evaluate(X_test, y_test))"
   ]
  },
  {
   "cell_type": "code",
   "execution_count": 17,
   "id": "e0ec9551",
   "metadata": {},
   "outputs": [
    {
     "data": {
      "image/png": "[encoded data removed]",
      "text/plain": [
       "<Figure size 640x480 with 1 Axes>"
      ]
     },
     "metadata": {},
     "output_type": "display_data"
    },
    {
     "data": {
      "image/png": "[encoded data removed]",
      "text/plain": [
       "<Figure size 640x480 with 1 Axes>"
      ]
     },
     "metadata": {},
     "output_type": "display_data"
    }
   ],
   "source": [
    "from cnn.utils.visualization import history_show, confusion_show\n",
    "history_show(history)"
   ]
  },
  {
   "cell_type": "markdown",
   "id": "31efa990",
   "metadata": {},
   "source": [
    "最后是加载模型的测试代码\n",
    "\n",
    "详见[test](test.py)"
   ]
  },
  {
   "cell_type": "code",
   "execution_count": null,
   "id": "5232de2d",
   "metadata": {},
   "outputs": [],
   "source": [
    "from cnn.models import load_model\n",
    "from scipy.io import loadmat\n",
    "\n",
    "data = loadmat('data/POI.mat')\n",
    "data = data['SquPOI'].T\n",
    "data_mean = data.mean(axis = 0)\n",
    "data -= data_mean\n",
    "\n",
    "X_train = data[:600]\n",
    "y_train = data[1:601]\n",
    "X_test = data[600:-1]\n",
    "y_test = data[601:]\n",
    "\n",
    "model = load_model(\"model\\\\standard_POI_rnn.h5\")\n",
    "\n",
    "\n",
    "print(f\"模型在测试集上的表现\\n{model.evaluate(X_test, y_test)}\")\n"
   ]
  },
  {
   "cell_type": "markdown",
   "id": "a3e8812c",
   "metadata": {},
   "source": [
    "在 idle 上运行上述代码的结果如下\n",
    "\n",
    "![png](./img/result.png)"
   ]
  },
  {
   "cell_type": "markdown",
   "id": "159c7a6b",
   "metadata": {},
   "source": [
    "接下来我们将模型 standard_POI_rnn 加载进来，测试其单步预测性能和多步预测性能。"
   ]
  },
  {
   "cell_type": "code",
   "execution_count": 18,
   "id": "60c35ec2",
   "metadata": {},
   "outputs": [],
   "source": [
    "import matplotlib.pyplot as plt\n",
    "from cnn.models import load_model"
   ]
  },
  {
   "cell_type": "markdown",
   "id": "e68b7d3a",
   "metadata": {},
   "source": [
    "查看单步预测的效果\n",
    "\n",
    "可以看到，单步预测的效果极佳，几乎与实际值完全贴合。"
   ]
  },
  {
   "cell_type": "code",
   "execution_count": 25,
   "id": "e1119a96",
   "metadata": {},
   "outputs": [
    {
     "data": {
      "text/plain": [
       "<matplotlib.legend.Legend at 0x262629bee08>"
      ]
     },
     "execution_count": 25,
     "metadata": {},
     "output_type": "execute_result"
    },
    {
     "data": {
      "image/png": "[encoded data removed]",
      "text/plain": [
       "<Figure size 640x480 with 3 Axes>"
      ]
     },
     "metadata": {},
     "output_type": "display_data"
    }
   ],
   "source": [
    "model = load_model(\"model\\\\standard_POI_rnn.h5\")\n",
    "\n",
    "y_single = model.predict(X_test)\n",
    "\n",
    "fig = plt.figure()\n",
    "fig.suptitle('single predict')\n",
    "\n",
    "t = np.linspace(1, 100, 100)                # 创建t的取值范围\n",
    "\n",
    "ax1 = fig.add_subplot(3, 1, 1) \n",
    "ax1.plot(t, y_single[:100, 0] + data_mean[0], label='predict_x')\n",
    "ax1.plot(t, y_test[:100, 0] + data_mean[0], label='true_x')\n",
    "ax1.set_xlabel('time')\n",
    "ax1.set_ylabel('value')\n",
    "ax1.legend()\n",
    "\n",
    "ax2 = fig.add_subplot(3, 1, 2)  \n",
    "ax2.plot(t, y_single[:100, 1] + data_mean[1], label='predict_y')\n",
    "ax2.plot(t, y_test[:100, 1] + data_mean[1], label='true_y')\n",
    "ax2.set_xlabel('time')\n",
    "ax2.set_ylabel('value')\n",
    "ax2.legend()\n",
    "\n",
    "ax3 = fig.add_subplot(3, 1, 3)    \n",
    "ax3.plot(t, y_single[:100, 2] + data_mean[2], label='predict_z')\n",
    "ax3.plot(t, y_test[:100, 2] + data_mean[2], label='true_z')\n",
    "ax3.set_xlabel('time')\n",
    "ax3.set_ylabel('value')\n",
    "ax3.legend()"
   ]
  },
  {
   "cell_type": "markdown",
   "id": "1f118392",
   "metadata": {},
   "source": [
    "查看连续预测 100 步的结果\n",
    "\n",
    "可以看到，连续预测 100 步时，除了刚开始的 10 步可以吻合得较好外，后面已经不再吻合。\n",
    "\n",
    "预测的整体形状与真实形状具有一定的相似性。"
   ]
  },
  {
   "cell_type": "code",
   "execution_count": 27,
   "id": "117a6aef",
   "metadata": {},
   "outputs": [
    {
     "data": {
      "text/plain": [
       "<matplotlib.legend.Legend at 0x26262c8fcc8>"
      ]
     },
     "execution_count": 27,
     "metadata": {},
     "output_type": "execute_result"
    },
    {
     "data": {
      "image/png": "[encoded data removed]",
      "text/plain": [
       "<Figure size 640x480 with 3 Axes>"
      ]
     },
     "metadata": {},
     "output_type": "display_data"
    }
   ],
   "source": [
    "model = load_model(\"model\\\\standard_POI_rnn.h5\")\n",
    "\n",
    "input_data = X_test[0].reshape(1, -1)\n",
    "y_continuous = np.zeros((100, 3))\n",
    "for i in range(100):\n",
    "    input_data = model.predict(input_data)\n",
    "    y_continuous[i] = input_data\n",
    "\n",
    "fig = plt.figure()\n",
    "fig.suptitle('continuous predict')\n",
    "\n",
    "t = np.linspace(1, 100, 100)                # 创建t的取值范围\n",
    "\n",
    "ax1 = fig.add_subplot(3, 1, 1) \n",
    "ax1.plot(t, y_continuous[:100, 0] + data_mean[0], label='predict_x')\n",
    "ax1.plot(t, y_test[:100, 0] + data_mean[0], label='true_x')\n",
    "ax1.set_xlabel('time')\n",
    "ax1.set_ylabel('value')\n",
    "ax1.legend()\n",
    "\n",
    "ax2 = fig.add_subplot(3, 1, 2)  \n",
    "ax2.plot(t, y_continuous[:100, 1] + data_mean[1], label='predict_y')\n",
    "ax2.plot(t, y_test[:100, 1] + data_mean[1], label='true_y')\n",
    "ax2.set_xlabel('time')\n",
    "ax2.set_ylabel('value')\n",
    "ax2.legend()\n",
    "\n",
    "ax3 = fig.add_subplot(3, 1, 3)    \n",
    "ax3.plot(t, y_continuous[:100, 2] + data_mean[2], label='predict_z')\n",
    "ax3.plot(t, y_test[:100, 2] + data_mean[2], label='true_z')\n",
    "ax3.set_xlabel('time')\n",
    "ax3.set_ylabel('value')\n",
    "ax3.legend()"
   ]
  }
 ],
 "metadata": {
  "kernelspec": {
   "display_name": "Python 3 (ipykernel)",
   "language": "python",
   "name": "python3"
  },
  "language_info": {
   "codemirror_mode": {
    "name": "ipython",
    "version": 3
   },
   "file_extension": ".py",
   "mimetype": "text/x-python",
   "name": "python",
   "nbconvert_exporter": "python",
   "pygments_lexer": "ipython3",
   "version": "3.7.16"
  },
  "toc": {
   "base_numbering": 1,
   "nav_menu": {},
   "number_sections": true,
   "sideBar": true,
   "skip_h1_title": false,
   "title_cell": "Table of Contents",
   "title_sidebar": "Contents",
   "toc_cell": false,
   "toc_position": {
    "height": "calc(100% - 180px)",
    "left": "10px",
    "top": "150px",
    "width": "253.087px"
   },
   "toc_section_display": true,
   "toc_window_display": false
  }
 },
 "nbformat": 4,
 "nbformat_minor": 5
}
