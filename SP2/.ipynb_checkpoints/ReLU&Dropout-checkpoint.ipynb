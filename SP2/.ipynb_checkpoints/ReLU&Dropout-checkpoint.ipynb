{
 "cells": [
  {
   "cell_type": "markdown",
   "id": "fe4f5ed5",
   "metadata": {},
   "source": [
    "# ReLU & Dropout"
   ]
  },
  {
   "cell_type": "markdown",
   "id": "d5fee3b6",
   "metadata": {},
   "source": [
    "请使用jupyter完成相关代码的运行。 若未安装该依赖，直接阅读该 pdf 文件同样可以获取练习结果。"
   ]
  },
  {
   "cell_type": "markdown",
   "id": "063383d9",
   "metadata": {},
   "source": [
    "---"
   ]
  },
  {
   "cell_type": "markdown",
   "id": "8b03aa33",
   "metadata": {},
   "source": [
    "## 模型\n",
    "\n",
    "![img](./img/1.png)"
   ]
  },
  {
   "cell_type": "markdown",
   "id": "0be6653f",
   "metadata": {},
   "source": [
    "---"
   ]
  },
  {
   "cell_type": "markdown",
   "id": "6877b357",
   "metadata": {},
   "source": [
    "## 准备工作"
   ]
  },
  {
   "cell_type": "markdown",
   "id": "67abed6d",
   "metadata": {},
   "source": [
    "### 导入依赖。"
   ]
  },
  {
   "cell_type": "code",
   "execution_count": 1,
   "id": "3518bd77",
   "metadata": {},
   "outputs": [],
   "source": [
    "import numpy as np\n",
    "import matplotlib.pyplot as plt"
   ]
  },
  {
   "cell_type": "markdown",
   "id": "0181f853",
   "metadata": {},
   "source": [
    "### ReLU 函数\n",
    "g 代表一个常用的逻辑函数（logistic function），公式为： \\\\[g\\left( v_i \\right)=max(0, v_i)\\\\] "
   ]
  },
  {
   "cell_type": "code",
   "execution_count": 2,
   "id": "115c06b5",
   "metadata": {},
   "outputs": [],
   "source": [
    "def ReLU(z):\n",
    "    '''\n",
    "    ReLU 函数\n",
    "    Args:\n",
    "        z (m, n): 输入\n",
    "    Returns:\n",
    "        g (m, n): ReLU 函数输出\n",
    "    '''\n",
    "    return np.maximum(0, z)\n",
    "\n",
    "def sigmoid(z):\n",
    "    '''\n",
    "    sigmoid 函数\n",
    "    Args:\n",
    "        z (m, n): 输入\n",
    "    Returns:\n",
    "        g (m, n): sigmoid 函数输出\n",
    "    '''\n",
    "    d = 1 + np.exp(-z)\n",
    "    return 1. / d\n",
    "\n",
    "def softmax(z):\n",
    "    '''\n",
    "    softmax 函数\n",
    "    Args:\n",
    "        z (m, n): 输入\n",
    "    Returns:\n",
    "        g (m, n): softmax 函数输出\n",
    "    '''\n",
    "    d = np.exp(z)\n",
    "    # 注意 d sum时的axis\n",
    "    return d / d.sum(axis = 1).reshape(-1, 1)"
   ]
  },
  {
   "cell_type": "markdown",
   "id": "3491acd0",
   "metadata": {},
   "source": [
    "### ReLU函数的梯度的函数"
   ]
  },
  {
   "cell_type": "code",
   "execution_count": 3,
   "id": "d478823b",
   "metadata": {},
   "outputs": [],
   "source": [
    "def ReLU_gradient(z):\n",
    "    return z > 0\n",
    "\n",
    "def sigmoid_gradient(z):\n",
    "    return np.multiply(sigmoid(z), (1 - sigmoid(z)))\n",
    "\n",
    "def softmax_gradient(z):\n",
    "    return np.multiply(softmax(z), (1 - softmax(z)))"
   ]
  },
  {
   "cell_type": "markdown",
   "id": "e4f93278",
   "metadata": {},
   "source": [
    "### 前向传播函数\n",
    "\n",
    "注意偏置 b = 0。"
   ]
  },
  {
   "cell_type": "code",
   "execution_count": 4,
   "id": "5a030396",
   "metadata": {},
   "outputs": [],
   "source": [
    "def forward_propagate(X, thetas, activate_fcn):\n",
    "    '''\n",
    "    前向传播函数\n",
    "    Args:\n",
    "        X (m, n): m个样本，n个特征\n",
    "        thetas list[(ti, tj)]: 隐层参数矩阵列表\n",
    "        activate_fcn : 激活函数\n",
    "    Returns:\n",
    "        z_out list[(m, ti)]\n",
    "        a_out list[(m, ti)]\n",
    "    '''\n",
    "    m = X.shape[0]\n",
    "\n",
    "    # 激活项a, 线性输出z\n",
    "    z_out, a_out = [X], [X]\n",
    "    for theta in thetas:\n",
    "        z_out.append(a_out[-1] * theta.T)\n",
    "        a_out.append(activate_fcn(z_out[-1]))\n",
    "    a_out[-1] = softmax(z_out[-1])\n",
    "\n",
    "    return z_out, a_out"
   ]
  },
  {
   "cell_type": "markdown",
   "id": "1f71e259",
   "metadata": {},
   "source": [
    "### 代价函数\n",
    "\n",
    "交叉熵代价函数。\n",
    "\n",
    "![img](./img/nn_cost.png)"
   ]
  },
  {
   "cell_type": "code",
   "execution_count": 5,
   "id": "02c1b9d3",
   "metadata": {},
   "outputs": [],
   "source": [
    "def cost_fcn(params, size, index, X, y, activate_fcn):\n",
    "    '''\n",
    "    交叉熵代价函数\n",
    "    Args:\n",
    "        params (hidden_size * input_size + num_labels * hidden_size, ): 参数\n",
    "        size (list[int]): 输入的特征数, 隐藏层的神经元数, 输出层神经元数/类别数\n",
    "        X (m, n): m个样本，n个特征\n",
    "        y (m, k): 真实值, k个类别\n",
    "        activate_fcn : 激活函数\n",
    "    Returns:\n",
    "        cost (int): 代价\n",
    "    '''\n",
    "    m = X.shape[0]\n",
    "    X = np.matrix(X)\n",
    "    y = np.matrix(y)\n",
    "    \n",
    "    # reshape the parameter array into parameter matrices for each layer\n",
    "    thetas = []\n",
    "    index1 = 0\n",
    "    for i in range(len(index)):\n",
    "        index2 = index[i]\n",
    "        thetas.append(np.matrix(np.reshape(params[index1:index2], (size[i + 1], size[i]))))\n",
    "        index1 = index2\n",
    "    \n",
    "    # run the feed-forward pass\n",
    "    _, a_out = forward_propagate(X, thetas, activate_fcn)\n",
    "    \n",
    "    # compute the cost\n",
    "    h = a_out[-1]\n",
    "    J = np.multiply(-y, np.log(h)) - np.multiply((1 - y), np.log(1 - h))\n",
    "    cost = J.sum().sum() / m\n",
    "\n",
    "    return cost"
   ]
  },
  {
   "cell_type": "markdown",
   "id": "f128719b",
   "metadata": {},
   "source": [
    "### BP算法\n",
    "\n",
    "交叉熵代价函数 + Softmax。"
   ]
  },
  {
   "cell_type": "code",
   "execution_count": 24,
   "id": "b49288c2",
   "metadata": {},
   "outputs": [],
   "source": [
    "def backprop(params, size, index, X, y, activate_fcn, activate_fcn_gradient, ratio = 0.):\n",
    "    '''\n",
    "    执行反向传播并返回代价和梯度\n",
    "    Args:\n",
    "        params (hidden_size * input_size + num_labels * hidden_size, ): 参数\n",
    "        size (list[int]): 输入的特征数, 隐藏层的神经元数, 输出层神经元数/类别数\n",
    "        X (m, n): m个样本，n个特征\n",
    "        y (m, k): 真实值, k个类别\n",
    "        activate_fcn : 激活函数\n",
    "        activate_fcn_gradient : 激活函数的梯度函数\n",
    "        ratio float: 失活节点占比\n",
    "    Returns:\n",
    "        cost (int): 代价\n",
    "        grad (, ): 梯度\n",
    "    '''\n",
    "        \n",
    "    m = X.shape[0]\n",
    "    \n",
    "    # 将参数数组重构为每一层的参数矩阵\n",
    "    thetas = []\n",
    "    index1 = 0\n",
    "    for i in range(len(index)):\n",
    "        index2 = index[i]\n",
    "        thetas.append(np.matrix(np.reshape(params[index1:index2], (size[i + 1], size[i]))))\n",
    "        index1 = index2\n",
    "    \n",
    "    # 前向传播\n",
    "    if ratio > 0:\n",
    "        z_out, a_out = forward_propagate_dropout(X, thetas, activate_fcn, ratio)\n",
    "    else:\n",
    "        z_out, a_out = forward_propagate(X, thetas, activate_fcn)\n",
    "    h = a_out[-1]\n",
    "    \n",
    "    # 使用dropout时，sigmoid和softmax梯度函数都含有a_out本身，而ReLU的梯度函数不含有a_out本身，直接将其梯度\n",
    "    # 函数由 z_out > 0 替换成 a_out > 0 即可将失活节点的梯度置为0\n",
    "    if ratio > 0 and activate_fcn == ReLU:\n",
    "        z_out = a_out\n",
    "    \n",
    "    # 计算损失\n",
    "    if ratio > 0: # ratio > 0时，为避免失活节点的影响，需使用参数重新计算\n",
    "        cost = cost_fcn(params, size, index, X, y, activate_fcn)\n",
    "    else:\n",
    "        J = np.multiply(-y, np.log(h)) - np.multiply((1 - y), np.log(1 - h))\n",
    "        cost = J.sum().sum() / m\n",
    "    \n",
    "    # 误差反向传播\n",
    "    grads = []\n",
    "    error = h - y\n",
    "    delta = error\n",
    "    for i in range(len(thetas)-1, -1, -1):\n",
    "        grads.append(delta.T @ a_out[i] / m)\n",
    "        error = delta @ thetas[i]\n",
    "        delta = np.multiply(error, activate_fcn_gradient(z_out[i]))\n",
    "    \n",
    "    # 将梯度矩阵分解成单个数组\n",
    "    grad = np.concatenate([np.ravel(grad) for grad in grads[::-1]])\n",
    "    \n",
    "    return cost, grad"
   ]
  },
  {
   "cell_type": "markdown",
   "id": "f486f139",
   "metadata": {},
   "source": [
    "训练函数。"
   ]
  },
  {
   "cell_type": "code",
   "execution_count": 7,
   "id": "ebb86fad",
   "metadata": {},
   "outputs": [],
   "source": [
    "def train(X, y, params, size, alpha, iters, activate_fcn, activate_fcn_gradient, ratio = 0., step = -1):\n",
    "    '''\n",
    "    训练函数\n",
    "    Args:\n",
    "        X (m, n): m个样本，n个特征\n",
    "        y (m, k): 真实值, k个类别\n",
    "        params (hidden_size * input_size + num_labels * hidden_size, ): 参数\n",
    "        size (list[int]): 输入的特征数, 隐藏层的神经元数, 输出层神经元数/类别数\n",
    "        alpha (int): 学习率\n",
    "        iters (int): 最大迭代次数\n",
    "        activate_fcn : 激活函数\n",
    "        activate_fcn_gradient : 激活函数的梯度函数\n",
    "        ratio float: 失活节点占比\n",
    "        step (int): 每组样本的数量\n",
    "    Returns:\n",
    "        g(1, n): 参数最终值\n",
    "        cost(iters, 1): 代价函数历史值\n",
    "    '''\n",
    "    m = X.shape[0]\n",
    "    g = params.copy()\n",
    "    cost = np.matrix(np.zeros((iters, 1)))\n",
    "    \n",
    "    # 默认为批量\n",
    "    if step == -1:\n",
    "        step = m\n",
    "    \n",
    "    index = np.array(size)\n",
    "    index = np.cumsum(index[1:] * index[:-1])\n",
    "    for i in range(iters):\n",
    "        for j in range(0, m, step):\n",
    "            Xs = X[j:j+step, :]\n",
    "            ys = y[j:j+step]\n",
    "            \n",
    "            # 计算梯度和损失\n",
    "            J, grad = backprop(g, size, index, X, y, activate_fcn, activate_fcn_gradient, ratio)\n",
    "            \n",
    "            g = g - alpha * grad\n",
    "            cost[i, 0] = J\n",
    "\n",
    "    return g, cost"
   ]
  },
  {
   "cell_type": "markdown",
   "id": "576e7425",
   "metadata": {},
   "source": [
    "---"
   ]
  },
  {
   "cell_type": "markdown",
   "id": "61d80b5e",
   "metadata": {},
   "source": [
    "![img](./img/work1.png)"
   ]
  },
  {
   "cell_type": "code",
   "execution_count": 8,
   "id": "2cd4341d",
   "metadata": {},
   "outputs": [
    {
     "name": "stdout",
     "output_type": "stream",
     "text": [
      "训练数据网络预测值：\n",
      "[[1]\n",
      " [2]\n",
      " [3]\n",
      " [4]\n",
      " [5]]\n",
      "训练数据平均损失: 5.067501620260325e-05\n"
     ]
    },
    {
     "data": {
      "image/png": "[encoded data removed]",
      "text/plain": [
       "<Figure size 640x480 with 1 Axes>"
      ]
     },
     "metadata": {},
     "output_type": "display_data"
    }
   ],
   "source": [
    "# 初始化设置\n",
    "size = [25, 20, 20, 20, 5] # 三隐层\n",
    "alpha = 0.05\n",
    "epoch = 10000\n",
    "\n",
    "# 设定激活函数\n",
    "activate_fcn, activate_fcn_gradient = ReLU, ReLU_gradient\n",
    "\n",
    "# 数据\n",
    "X = np.array([[[0, 1, 1, 0, 0],\n",
    "               [0, 0, 1, 0, 0],\n",
    "               [0, 0, 1, 0, 0],\n",
    "               [0, 0, 1, 0, 0],\n",
    "               [0, 1, 1, 1, 0]],\n",
    "             \n",
    "              [[1, 1, 1, 1, 0],\n",
    "               [0, 0, 0, 0, 1],\n",
    "               [0, 1, 1, 1, 0],\n",
    "               [1, 0, 0, 0, 0],\n",
    "               [1, 1, 1, 1, 1]],\n",
    "              \n",
    "              [[1, 1, 1, 1, 0],\n",
    "               [0, 0, 0, 0, 1],\n",
    "               [0, 1, 1, 1, 0],\n",
    "               [0, 0, 0, 0, 1],\n",
    "               [1, 1, 1, 1, 0]],\n",
    "              \n",
    "              [[0, 0, 0, 1, 0],\n",
    "               [0, 0, 1, 1, 0],\n",
    "               [0, 1, 0, 1, 0],\n",
    "               [1, 1, 1, 1, 1],\n",
    "               [0, 0, 0, 1, 0]],\n",
    "              \n",
    "              [[1, 1, 1, 1, 1],\n",
    "               [1, 0, 0, 0, 0],\n",
    "               [1, 1, 1, 1, 0],\n",
    "               [0, 0, 0, 0, 1],\n",
    "               [1, 1, 1, 1, 0]]])\n",
    "\n",
    "  \n",
    "\n",
    "y = np.eye(5)\n",
    "\n",
    "X = X.transpose(0, 2, 1).reshape(5, 25)\n",
    "m = X.shape[0]\n",
    "X = np.matrix(X)\n",
    "y = np.matrix(y)\n",
    "\n",
    "# 随机初始化完整网络参数大小的参数数组\n",
    "index = np.array(size)\n",
    "params = np.random.random(size = np.sum(index[1:] * index[:-1])) * 2 - 1\n",
    "\n",
    "# 训练\n",
    "params, cost = train(X, y, params, size, alpha, epoch, activate_fcn, activate_fcn_gradient)\n",
    "\n",
    "# 观察输出\n",
    "index = np.cumsum(index[1:] * index[:-1])\n",
    "thetas = []\n",
    "index1 = 0\n",
    "for i in range(len(index)):\n",
    "    index2 = index[i]\n",
    "    thetas.append(np.matrix(np.reshape(params[index1:index2], (size[i + 1], size[i]))))\n",
    "    index1 = index2\n",
    "\n",
    "print(f'''训练数据网络预测值：\\n{forward_propagate(X, thetas, activate_fcn)[-1][-1].argmax(axis=1)+1}\n",
    "训练数据平均损失: {cost[-1].item()}''')\n",
    "\n",
    "# 绘制曲线\n",
    "fig, ax = plt.subplots()\n",
    "t = np.linspace(1, epoch, epoch)                # 创建t的取值范围\n",
    "ax.plot(t, m * cost)                            # 作误差曲线\n",
    "\n",
    "ax.set_xlabel('epoch')\n",
    "ax.set_ylabel('error')\n",
    "ax.set_title('epoch-error curve')\n",
    "\n",
    "plt.show() "
   ]
  },
  {
   "cell_type": "markdown",
   "id": "2d9ce79a",
   "metadata": {},
   "source": [
    "可以看到，训练结果有效。"
   ]
  },
  {
   "cell_type": "markdown",
   "id": "b847ca82",
   "metadata": {},
   "source": [
    "---"
   ]
  },
  {
   "cell_type": "markdown",
   "id": "47953386",
   "metadata": {},
   "source": [
    "![img](./img/work2.png)"
   ]
  },
  {
   "cell_type": "code",
   "execution_count": 10,
   "id": "f622c01c",
   "metadata": {},
   "outputs": [
    {
     "name": "stdout",
     "output_type": "stream",
     "text": [
      "训练数据网络预测值：\n",
      "[[1]\n",
      " [2]\n",
      " [3]\n",
      " [4]\n",
      " [5]]\n",
      "训练数据平均损失: 0.11497490610125365\n"
     ]
    },
    {
     "data": {
      "image/png": "[encoded data removed]",
      "text/plain": [
       "<Figure size 640x480 with 1 Axes>"
      ]
     },
     "metadata": {},
     "output_type": "display_data"
    }
   ],
   "source": [
    "# 初始化设置\n",
    "size = [25, 50, 5] # 单隐层\n",
    "alpha = 0.05\n",
    "epoch = 10000\n",
    "\n",
    "# 设定激活函数\n",
    "activate_fcn, activate_fcn_gradient = softmax, softmax_gradient\n",
    "\n",
    "# 随机初始化完整网络参数大小的参数数组\n",
    "index = np.array(size)\n",
    "params = np.random.random(size = np.sum(index[1:] * index[:-1])) * 2 - 1\n",
    "\n",
    "# 训练\n",
    "params, softcost = train(X, y, params, size, alpha, epoch, activate_fcn, activate_fcn_gradient)\n",
    "\n",
    "# 观察输出\n",
    "index = np.cumsum(index[1:] * index[:-1])\n",
    "thetas = []\n",
    "index1 = 0\n",
    "for i in range(len(index)):\n",
    "    index2 = index[i]\n",
    "    thetas.append(np.matrix(np.reshape(params[index1:index2], (size[i + 1], size[i]))))\n",
    "    index1 = index2\n",
    "\n",
    "print(f'''训练数据网络预测值：\\n{forward_propagate(X, thetas, activate_fcn)[-1][-1].argmax(axis=1)+1}\n",
    "训练数据平均损失: {softcost[-1].item()}''')\n",
    "\n",
    "# 绘制曲线\n",
    "fig, ax = plt.subplots()\n",
    "t = np.linspace(1, epoch, epoch)                # 创建t的取值范围\n",
    "ax.plot(t, m * cost, label='ReLU')              # 作误差曲线\n",
    "ax.plot(t, m * softcost, label='Softmax')       # 作误差曲线\n",
    "plt.ylim((0, 2))\n",
    "\n",
    "ax.set_xlabel('epoch')\n",
    "ax.set_ylabel('error')\n",
    "ax.set_title('epoch-error curve')\n",
    "ax.legend()\n",
    "\n",
    "plt.show() "
   ]
  },
  {
   "cell_type": "markdown",
   "id": "6dca04b1",
   "metadata": {},
   "source": [
    "可以看到，在同样的学习率下\n",
    "\n",
    "激活函数采用 Softmax 的单隐层网络，相比于采用 ReLU 的三隐层网络，其损失函数下降速度更慢\n",
    "\n",
    "在相同的轮数(10000)下，其训练得到的最终损失远大于采用 ReLU 的三隐层网络\n",
    "\n",
    "可以判定，ReLU 确实有效。"
   ]
  },
  {
   "cell_type": "markdown",
   "id": "a71c0f94",
   "metadata": {},
   "source": [
    "---"
   ]
  },
  {
   "cell_type": "markdown",
   "id": "918bb90f",
   "metadata": {},
   "source": [
    "## 练习15 Dropout\n",
    "\n",
    "![img](./img/work3.png)"
   ]
  },
  {
   "cell_type": "markdown",
   "id": "67566081",
   "metadata": {},
   "source": [
    "Dropout 中，为保证各节点之和（L1范数，节点向量幅值）大致不变，确保训练的稳定性（权值系数容易收敛），有效节点的输出需进行增益。"
   ]
  },
  {
   "cell_type": "code",
   "execution_count": 11,
   "id": "dbf51a03",
   "metadata": {},
   "outputs": [],
   "source": [
    "def Dropout(size, ratio):\n",
    "    '''\n",
    "    Dropout\n",
    "    Args:\n",
    "        size int: 待处理节点层的大小\n",
    "        ratio float: 失活节点占比\n",
    "    Returns:\n",
    "        ym (size): 经处理后的各节点增益\n",
    "    '''\n",
    "    num = np.round(size * (1 - ratio))\n",
    "    index = np.random.permutation(size)[:int(num)]\n",
    "    \n",
    "    ym = np.zeros(size)\n",
    "    ym[index] = size/num\n",
    "    return ym"
   ]
  },
  {
   "cell_type": "markdown",
   "id": "b881c307",
   "metadata": {},
   "source": [
    "引入 dropout 后，需适当修改 train() 和 backprop()，并重写前向传播。"
   ]
  },
  {
   "cell_type": "code",
   "execution_count": 21,
   "id": "c14417c4",
   "metadata": {},
   "outputs": [],
   "source": [
    "def forward_propagate_dropout(X, thetas, activate_fcn, ratio):\n",
    "    '''\n",
    "    前向传播函数\n",
    "    Args:\n",
    "        X (m, n): m个样本，n个特征\n",
    "        thetas list[(ti, tj)]: 隐层参数矩阵列表\n",
    "        activate_fcn : 激活函数\n",
    "        ratio float: 失活节点占比\n",
    "    Returns:\n",
    "        z_out list[(m, ti)]\n",
    "        a_out list[(m, ti)]\n",
    "    '''\n",
    "    m = X.shape[0]\n",
    "\n",
    "    # 激活项a, 线性输出z\n",
    "    z_out, a_out = [X], [X]\n",
    "    for theta in thetas:\n",
    "        z_out.append(a_out[-1] * theta.T)\n",
    "        a_out.append(np.multiply(activate_fcn(z_out[-1]), Dropout(theta.shape[0], ratio)))\n",
    "    a_out[-1] = softmax(z_out[-1])\n",
    "\n",
    "    return z_out, a_out"
   ]
  },
  {
   "cell_type": "markdown",
   "id": "0392549d",
   "metadata": {},
   "source": [
    "激活函数使用 sigmoid，引入 dropout 后。"
   ]
  },
  {
   "cell_type": "code",
   "execution_count": 14,
   "id": "4ee8c350",
   "metadata": {
    "scrolled": true
   },
   "outputs": [
    {
     "name": "stdout",
     "output_type": "stream",
     "text": [
      "训练数据网络预测值：\n",
      "[[1]\n",
      " [2]\n",
      " [3]\n",
      " [4]\n",
      " [5]]\n",
      "训练数据平均损失: 0.00024945353719964773\n"
     ]
    },
    {
     "data": {
      "image/png": "[encoded data removed]",
      "text/plain": [
       "<Figure size 640x480 with 1 Axes>"
      ]
     },
     "metadata": {},
     "output_type": "display_data"
    }
   ],
   "source": [
    "# 初始化设置\n",
    "size = [25, 20, 20, 20, 5] # 三隐层\n",
    "alpha = 0.1\n",
    "epoch = 10000\n",
    "ratio = 0.2\n",
    "\n",
    "# 设定激活函数\n",
    "activate_fcn, activate_fcn_gradient = sigmoid, sigmoid_gradient\n",
    "\n",
    "# 随机初始化完整网络参数大小的参数数组\n",
    "index = np.array(size)\n",
    "params = np.random.random(size = np.sum(index[1:] * index[:-1])) * 2 - 1\n",
    "\n",
    "# 训练\n",
    "params, drop_sigcost = train(X, y, params, size, alpha, epoch, activate_fcn, activate_fcn_gradient, ratio)\n",
    "\n",
    "# 观察输出\n",
    "index = np.cumsum(index[1:] * index[:-1])\n",
    "thetas = []\n",
    "index1 = 0\n",
    "for i in range(len(index)):\n",
    "    index2 = index[i]\n",
    "    thetas.append(np.matrix(np.reshape(params[index1:index2], (size[i + 1], size[i]))))\n",
    "    index1 = index2\n",
    "\n",
    "print(f'''训练数据网络预测值：\\n{forward_propagate(X, thetas, activate_fcn)[-1][-1].argmax(axis=1)+1}\n",
    "训练数据平均损失: {drop_sigcost[-1].item()}''')\n",
    "\n",
    "# 绘制曲线\n",
    "fig, ax = plt.subplots()\n",
    "t = np.linspace(1, epoch, epoch)                # 创建t的取值范围\n",
    "ax.plot(t, m * drop_sigcost, label='sigmoid')       # 作误差曲线\n",
    "\n",
    "ax.set_xlabel('epoch')\n",
    "ax.set_ylabel('error')\n",
    "ax.set_title('epoch-error curve')\n",
    "ax.legend()\n",
    "\n",
    "plt.show() "
   ]
  },
  {
   "cell_type": "markdown",
   "id": "9f186c64",
   "metadata": {},
   "source": [
    "---"
   ]
  },
  {
   "cell_type": "markdown",
   "id": "e714bda0",
   "metadata": {},
   "source": [
    "## 练习16\n",
    "\n",
    "激活函数使用 ReLU，引入 dropout 后。\n",
    "\n",
    "使用dropout时，sigmoid和softmax梯度函数都含有a_out本身，而ReLU的梯度函数不含有a_out本身，直接将其梯度函数由 z_out > 0 替换成 a_out > 0 即可将失活节点的梯度置为0."
   ]
  },
  {
   "cell_type": "code",
   "execution_count": 29,
   "id": "48585f5d",
   "metadata": {},
   "outputs": [
    {
     "name": "stdout",
     "output_type": "stream",
     "text": [
      "训练数据网络预测值：\n",
      "[[1]\n",
      " [2]\n",
      " [3]\n",
      " [4]\n",
      " [5]]\n",
      "训练数据平均损失: 6.856842826306805e-08\n"
     ]
    },
    {
     "data": {
      "image/png": "[encoded data removed]",
      "text/plain": [
       "<Figure size 640x480 with 1 Axes>"
      ]
     },
     "metadata": {},
     "output_type": "display_data"
    }
   ],
   "source": [
    "# 初始化设置\n",
    "size = [25, 20, 20, 20, 5] # 三隐层\n",
    "alpha = 0.05\n",
    "epoch = 10000\n",
    "ratio = 0.2\n",
    "\n",
    "# 设定激活函数\n",
    "activate_fcn, activate_fcn_gradient = ReLU, ReLU_gradient\n",
    "\n",
    "# 随机初始化完整网络参数大小的参数数组\n",
    "index = np.array(size)\n",
    "params = np.random.random(size = np.sum(index[1:] * index[:-1])) * 2 - 1\n",
    "\n",
    "# 训练\n",
    "params, drop_ReLUcost = train(X, y, params, size, alpha, epoch, activate_fcn, activate_fcn_gradient, ratio)\n",
    "\n",
    "# 观察输出\n",
    "index = np.cumsum(index[1:] * index[:-1])\n",
    "thetas = []\n",
    "index1 = 0\n",
    "for i in range(len(index)):\n",
    "    index2 = index[i]\n",
    "    thetas.append(np.matrix(np.reshape(params[index1:index2], (size[i + 1], size[i]))))\n",
    "    index1 = index2\n",
    "\n",
    "print(f'''训练数据网络预测值：\\n{forward_propagate(X, thetas, activate_fcn)[-1][-1].argmax(axis=1)+1}\n",
    "训练数据平均损失: {drop_ReLUcost[-1].item()}''')\n",
    "\n",
    "# 绘制曲线\n",
    "fig, ax = plt.subplots()\n",
    "t = np.linspace(1, epoch, epoch)                # 创建t的取值范围\n",
    "ax.plot(t, m * drop_ReLUcost, label='ReLU')       # 作误差曲线\n",
    "\n",
    "ax.set_xlabel('epoch')\n",
    "ax.set_ylabel('error')\n",
    "ax.set_title('epoch-error curve')\n",
    "ax.legend()\n",
    "\n",
    "plt.show() "
   ]
  }
 ],
 "metadata": {
  "kernelspec": {
   "display_name": "Python 3 (ipykernel)",
   "language": "python",
   "name": "python3"
  },
  "language_info": {
   "codemirror_mode": {
    "name": "ipython",
    "version": 3
   },
   "file_extension": ".py",
   "mimetype": "text/x-python",
   "name": "python",
   "nbconvert_exporter": "python",
   "pygments_lexer": "ipython3",
   "version": "3.7.16"
  }
 },
 "nbformat": 4,
 "nbformat_minor": 5
}
