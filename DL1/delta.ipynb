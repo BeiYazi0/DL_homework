{
 "cells": [
  {
   "cell_type": "markdown",
   "id": "fe4f5ed5",
   "metadata": {},
   "source": [
    "# Delta 规则实例"
   ]
  },
  {
   "cell_type": "markdown",
   "id": "063383d9",
   "metadata": {},
   "source": [
    "---"
   ]
  },
  {
   "cell_type": "markdown",
   "id": "8b03aa33",
   "metadata": {},
   "source": [
    "## 模型与数据\n",
    "\n",
    "![img](./img/1.png)"
   ]
  },
  {
   "cell_type": "markdown",
   "id": "0be6653f",
   "metadata": {},
   "source": [
    "---"
   ]
  },
  {
   "cell_type": "markdown",
   "id": "6877b357",
   "metadata": {},
   "source": [
    "## 准备工作"
   ]
  },
  {
   "cell_type": "markdown",
   "id": "67abed6d",
   "metadata": {},
   "source": [
    "### 导入依赖。"
   ]
  },
  {
   "cell_type": "code",
   "execution_count": 1,
   "id": "3518bd77",
   "metadata": {},
   "outputs": [],
   "source": [
    "import numpy as np\n",
    "import matplotlib.pyplot as plt"
   ]
  },
  {
   "cell_type": "markdown",
   "id": "0181f853",
   "metadata": {},
   "source": [
    "### sigmoid 函数\n",
    "g 代表一个常用的逻辑函数（logistic function）为S形函数（Sigmoid function），公式为： \\\\[g\\left( z \\right)=\\frac{1}{1+{{e}^{-z}}}\\\\] "
   ]
  },
  {
   "cell_type": "code",
   "execution_count": 2,
   "id": "115c06b5",
   "metadata": {},
   "outputs": [],
   "source": [
    "def sigmoid(z):\n",
    "    '''\n",
    "    sigmoid 函数\n",
    "    Args:\n",
    "        z (m, n): 输入\n",
    "    Returns:\n",
    "        g (m, n): sigmoid 函数输出\n",
    "    '''\n",
    "    d = 1 + np.exp(-z)\n",
    "    return 1. / d"
   ]
  },
  {
   "cell_type": "markdown",
   "id": "3491acd0",
   "metadata": {},
   "source": [
    "### Sigmoid函数的梯度的函数"
   ]
  },
  {
   "cell_type": "code",
   "execution_count": 3,
   "id": "d478823b",
   "metadata": {},
   "outputs": [],
   "source": [
    "def sigmoid_gradient(z):\n",
    "    return np.multiply(sigmoid(z), (1 - sigmoid(z)))"
   ]
  },
  {
   "cell_type": "markdown",
   "id": "e4f93278",
   "metadata": {},
   "source": [
    "### 前向传播函数\n",
    "\n",
    "单层网络，注意偏置 b = 0。"
   ]
  },
  {
   "cell_type": "code",
   "execution_count": 4,
   "id": "5a030396",
   "metadata": {},
   "outputs": [],
   "source": [
    "def forward_propagate(X, theta):\n",
    "    '''\n",
    "    前向传播函数\n",
    "    Args:\n",
    "        X (m, n): m个样本，n个特征\n",
    "        theta (t, n): t个神经元\n",
    "    Returns:\n",
    "        z (m, t)\n",
    "        h (m, t)\n",
    "    '''\n",
    "    z = X * theta.T # b = 0\n",
    "    h = sigmoid(z)\n",
    "\n",
    "    return z, h"
   ]
  },
  {
   "cell_type": "markdown",
   "id": "1f71e259",
   "metadata": {},
   "source": [
    "### 代价函数\n",
    "\n",
    "创建一个以参数θ为特征函数的代价函数\n",
    "$$J\\left( \\theta  \\right)=\\frac{1}{2m}\\sum\\limits_{i=1}^{m}{{{\\left( {{h}_{\\theta }}\\left( {{x}^{(i)}} \\right)-{{y}^{(i)}} \\right)}^{2}}}$$\n",
    "其中：\\\\[{{h}_{\\theta }}\\left( x \\right)={{\\theta }^{T}}X={{\\theta }_{0}}{{x}_{0}}+{{\\theta }_{1}}{{x}_{1}}+{{\\theta }_{2}}{{x}_{2}}+...+{{\\theta }_{n}}{{x}_{n}}\\\\] "
   ]
  },
  {
   "cell_type": "code",
   "execution_count": 5,
   "id": "02c1b9d3",
   "metadata": {},
   "outputs": [],
   "source": [
    "def computeCost(X, y, theta):\n",
    "    '''\n",
    "    代价函数\n",
    "    Args:\n",
    "        X (m, n): m个样本，n个特征\n",
    "        y (m, 1): 真实值\n",
    "        theta (1, n): 参数\n",
    "    Returns:\n",
    "        cost: 代价函数\n",
    "    '''\n",
    "    _, h =  forward_propagate(X, theta)\n",
    "    m = X.shape[0]\n",
    "    J = np.power(h - y, 2)\n",
    "    return J.sum()/2/m"
   ]
  },
  {
   "cell_type": "markdown",
   "id": "f128719b",
   "metadata": {},
   "source": [
    "### 批量梯度下降\n",
    "\n",
    "$${{\\theta }_{j}}:={{\\theta }_{j}}-\\alpha \\frac{\\partial }{\\partial {{\\theta }_{j}}}J\\left( \\theta  \\right)$$"
   ]
  },
  {
   "cell_type": "code",
   "execution_count": 6,
   "id": "b49288c2",
   "metadata": {},
   "outputs": [],
   "source": [
    "def GradientDescent(X, y, theta, alpha, iters, step = -1):\n",
    "    '''\n",
    "    小批量梯度下降\n",
    "    Args:\n",
    "        X (m, n): m个样本，n个特征\n",
    "        y (m, 1): 真实值\n",
    "        theta (1, n): 参数\n",
    "        alpha (int): 学习率\n",
    "        iters (int): 最大迭代次数\n",
    "        step (int): 每组样本的数量\n",
    "    Returns:\n",
    "        g(1, n): 参数最终值\n",
    "        cost(iters, 1): 代价函数历史值\n",
    "    '''\n",
    "    m = X.shape[0]\n",
    "    g = theta.copy()\n",
    "    cost = np.matrix(np.zeros((iters, 1)))\n",
    "    \n",
    "    # 默认为批量\n",
    "    if step == -1:\n",
    "        step = m\n",
    "    \n",
    "    for i in range(iters):\n",
    "        for j in range(0, m, step):\n",
    "            Xs = X[j:j+step, :]\n",
    "            ys = y[j:j+step]\n",
    "            z, h = forward_propagate(Xs, g) # 输出\n",
    "            delta = np.multiply(sigmoid_gradient(z), h - ys)\n",
    "            gradient = Xs.T * delta / step    # 计算梯度\n",
    "            g = g - alpha * gradient.T        # 更新参数\n",
    "        cost[i, 0] = computeCost(X, y, g) # 计算代价函数\n",
    "\n",
    "    return g, cost"
   ]
  },
  {
   "cell_type": "markdown",
   "id": "576e7425",
   "metadata": {},
   "source": [
    "---"
   ]
  },
  {
   "cell_type": "markdown",
   "id": "61d80b5e",
   "metadata": {},
   "source": [
    "## 练习1\n",
    "\n",
    "用SGD、批量和小批量算法，训练网络，给出最终权系数和四个样本的网络输出值。\n",
    "其中，SGD训练1000轮，批量训练4000轮,小批量(2个样本一组)训练2000轮。"
   ]
  },
  {
   "cell_type": "code",
   "execution_count": 7,
   "id": "2cd4341d",
   "metadata": {},
   "outputs": [
    {
     "name": "stdout",
     "output_type": "stream",
     "text": [
      "SGD\n",
      "系数: [[ 7.15010448 -0.21852618 -3.35787491]]\n",
      "网络输出值: [[0.03363823]\n",
      " [0.02721483]\n",
      " [0.9779518 ]\n",
      " [0.97271366]]\n",
      "\n",
      "批量\n",
      "系数: [[ 7.14080691 -0.21776804 -3.35481557]]\n",
      "网络输出值: [[0.03373783]\n",
      " [0.02731608]\n",
      " [0.97781689]\n",
      " [0.97256783]]\n",
      "\n",
      "小批量\n",
      "系数: [[ 7.15418297 -0.21349088 -3.36348823]]\n",
      "网络输出值: [[0.03345624]\n",
      " [0.02719953]\n",
      " [0.97791868]\n",
      " [0.97280641]]\n",
      "\n"
     ]
    }
   ],
   "source": [
    "# 数据\n",
    "X = np.array([[0, 0, 1],\n",
    "             [0, 1, 1],\n",
    "             [1, 0, 1],\n",
    "             [1, 1, 1]])\n",
    "y = np.array([0, 0, 1, 1])\n",
    "\n",
    "X = np.matrix(X)\n",
    "y = np.matrix(y).T\n",
    "\n",
    "# 初始化设置\n",
    "alpha = 0.9\n",
    "\n",
    "# 训练网络\n",
    "theta = np.matrix(np.random.random((1, 3)) * 2 - 1)\n",
    "SGDresult, _ = GradientDescent(X, y, theta, alpha, 1000, 1)\n",
    "print(f\"SGD\\n系数: {SGDresult}\\n网络输出值: {forward_propagate(X, SGDresult)[1]}\\n\")\n",
    "\n",
    "theta = np.matrix(np.random.random((1, 3)) * 2 - 1)\n",
    "batch_result, _ = GradientDescent(X, y, theta, alpha, 4000)\n",
    "print(f\"批量\\n系数: {batch_result}\\n网络输出值: {forward_propagate(X, batch_result)[1]}\\n\")\n",
    "\n",
    "theta = np.matrix(np.random.random((1, 3)) * 2 - 1)\n",
    "min_batch_result, _ = GradientDescent(X, y, theta, alpha, 2000, 2)\n",
    "print(f\"小批量\\n系数: {min_batch_result}\\n网络输出值: {forward_propagate(X, min_batch_result)[1]}\\n\")"
   ]
  },
  {
   "cell_type": "markdown",
   "id": "b847ca82",
   "metadata": {},
   "source": [
    "---"
   ]
  },
  {
   "cell_type": "markdown",
   "id": "97c564a0",
   "metadata": {},
   "source": [
    "## 练习2\n",
    "\n",
    "结合课堂练习，比较SGD、批量和小批量三种算法学习速度。\n",
    "说明:每种算法学习1000轮，画出“轮-误差”曲线，其中误差等于4个实际输出与期望输出之差的平方和。"
   ]
  },
  {
   "cell_type": "code",
   "execution_count": 8,
   "id": "7e0c6e6a",
   "metadata": {
    "scrolled": true
   },
   "outputs": [
    {
     "data": {
      "image/png": "[encoded data removed]",
      "text/plain": [
       "<Figure size 640x480 with 1 Axes>"
      ]
     },
     "metadata": {},
     "output_type": "display_data"
    }
   ],
   "source": [
    "# 训练网络（计算结果为均方误差）\n",
    "theta = np.matrix(np.random.random((1, 3)) * 2 - 1)\n",
    "_, SGDcost = GradientDescent(X, y, theta, alpha, 1000, 1)\n",
    "\n",
    "theta = np.matrix(np.random.random((1, 3)) * 2 - 1)\n",
    "_, batch_cost = GradientDescent(X, y, theta, alpha, 1000)\n",
    "\n",
    "theta = np.matrix(np.random.random((1, 3)) * 2 - 1)\n",
    "_, min_batch_cost = GradientDescent(X, y, theta, alpha, 1000, 2)\n",
    "\n",
    "# 绘制曲线\n",
    "fig, ax = plt.subplots()\n",
    "t = np.linspace(1, 1000, 1000)                # 创建t的取值范围\n",
    "ax.plot(t, 4 * SGDcost, label='SGD')              # 作SGD的误差曲线\n",
    "ax.plot(t, 4 * batch_cost, label='batch')         # 作batch的误差曲线\n",
    "ax.plot(t, 4 * min_batch_cost, label='min_batch') # 作min_batch的误差曲线\n",
    "\n",
    "ax.set_xlabel('epoch')\n",
    "ax.set_ylabel('error')\n",
    "ax.set_title('epoch-error curve')\n",
    "ax.legend()\n",
    "\n",
    "plt.show() "
   ]
  },
  {
   "cell_type": "markdown",
   "id": "4d2ea199",
   "metadata": {},
   "source": [
    "---"
   ]
  },
  {
   "cell_type": "markdown",
   "id": "faf3a082",
   "metadata": {},
   "source": [
    "## 练习3\n",
    "\n",
    "用SGD对数据2训练4000轮，给出最终权系数和四个样本的网络输出，验证训练结果是否有效?\n",
    "\n",
    "![img](./img/2.png)"
   ]
  },
  {
   "cell_type": "code",
   "execution_count": 9,
   "id": "6e909814",
   "metadata": {},
   "outputs": [
    {
     "name": "stdout",
     "output_type": "stream",
     "text": [
      "SGD\n",
      "系数: [[-0.23750569 -0.11875285  0.11875285]]\n",
      "网络输出值: [[0.52965337]\n",
      " [0.5       ]\n",
      " [0.47034663]\n",
      " [0.44090112]]\n",
      "\n"
     ]
    }
   ],
   "source": [
    "# 数据\n",
    "X = np.array([[0, 0, 1],\n",
    "             [0, 1, 1],\n",
    "             [1, 0, 1],\n",
    "             [1, 1, 1]])\n",
    "y = np.array([0, 1, 1, 0])\n",
    "\n",
    "X = np.matrix(X)\n",
    "y = np.matrix(y).T\n",
    "\n",
    "# 初始化设置\n",
    "alpha = 0.9\n",
    "\n",
    "# 训练网络\n",
    "theta = np.matrix(np.random.random((1, 3)) * 2 - 1)\n",
    "SGDresult, SGDcost = GradientDescent(X, y, theta, alpha, 4000, 1)\n",
    "print(f\"SGD\\n系数: {SGDresult}\\n网络输出值: {forward_propagate(X, SGDresult)[1]}\\n\")"
   ]
  },
  {
   "cell_type": "code",
   "execution_count": 10,
   "id": "984f992d",
   "metadata": {},
   "outputs": [
    {
     "data": {
      "image/png": "[encoded data removed]",
      "text/plain": [
       "<Figure size 640x480 with 1 Axes>"
      ]
     },
     "metadata": {},
     "output_type": "display_data"
    }
   ],
   "source": [
    "# 损失曲线\n",
    "fig, ax = plt.subplots()\n",
    "t = np.linspace(1, 4000, 4000)                # 创建t的取值范围\n",
    "ax.plot(t, 4 * SGDcost, label='SGD')              # 作SGD的误差曲线\n",
    "\n",
    "ax.set_xlabel('epoch')\n",
    "ax.set_ylabel('error')\n",
    "ax.set_title('epoch-error curve')\n",
    "ax.legend()\n",
    "\n",
    "plt.show() "
   ]
  },
  {
   "cell_type": "markdown",
   "id": "14aeedd4",
   "metadata": {},
   "source": [
    "根据网络的输出可以判定训练结果无效。\n",
    "\n",
    "原因如下：\n",
    "\n",
    "![img](./img/3.png)"
   ]
  },
  {
   "cell_type": "markdown",
   "id": "25c47b51",
   "metadata": {},
   "source": [
    "---"
   ]
  },
  {
   "cell_type": "markdown",
   "id": "9abe05aa",
   "metadata": {},
   "source": [
    "### 作业4\n",
    "\n",
    "训练浅层 NN 解决 XOR 问题。\n",
    "\n",
    "![img](./img/4.png)"
   ]
  },
  {
   "cell_type": "code",
   "execution_count": null,
   "id": "952aaeaa",
   "metadata": {},
   "outputs": [],
   "source": []
  },
  {
   "cell_type": "markdown",
   "id": "cb2d0d45",
   "metadata": {},
   "source": [
    "---"
   ]
  },
  {
   "attachments": {},
   "cell_type": "markdown",
   "id": "47953386",
   "metadata": {},
   "source": [
    "### 作业5\n",
    "\n",
    "尝试改变隐层节点个数(3、5、2? ) ,\n",
    "观察能否解决XOR问题?如何避免不收敛?"
   ]
  },
  {
   "cell_type": "code",
   "execution_count": null,
   "id": "f622c01c",
   "metadata": {},
   "outputs": [],
   "source": []
  }
 ],
 "metadata": {
  "kernelspec": {
   "display_name": "Python 3 (ipykernel)",
   "language": "python",
   "name": "python3"
  },
  "language_info": {
   "codemirror_mode": {
    "name": "ipython",
    "version": 3
   },
   "file_extension": ".py",
   "mimetype": "text/x-python",
   "name": "python",
   "nbconvert_exporter": "python",
   "pygments_lexer": "ipython3",
   "version": "3.7.16"
  }
 },
 "nbformat": 4,
 "nbformat_minor": 5
}
