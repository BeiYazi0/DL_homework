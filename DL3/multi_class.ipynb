{
 "cells": [
  {
   "cell_type": "markdown",
   "id": "fe4f5ed5",
   "metadata": {},
   "source": [
    "# 多分类"
   ]
  },
  {
   "cell_type": "markdown",
   "id": "d5fee3b6",
   "metadata": {},
   "source": [
    "请使用jupyter完成相关代码的运行。 若未安装该依赖，直接阅读该 pdf 文件同样可以获取练习结果。"
   ]
  },
  {
   "cell_type": "markdown",
   "id": "063383d9",
   "metadata": {},
   "source": [
    "---"
   ]
  },
  {
   "cell_type": "markdown",
   "id": "8b03aa33",
   "metadata": {},
   "source": [
    "## 算法步骤\n",
    "\n",
    "![img](./img/1.png)"
   ]
  },
  {
   "cell_type": "markdown",
   "id": "0be6653f",
   "metadata": {},
   "source": [
    "---"
   ]
  },
  {
   "cell_type": "markdown",
   "id": "6877b357",
   "metadata": {},
   "source": [
    "## 准备工作"
   ]
  },
  {
   "cell_type": "markdown",
   "id": "67abed6d",
   "metadata": {},
   "source": [
    "### 导入依赖。"
   ]
  },
  {
   "cell_type": "code",
   "execution_count": 10,
   "id": "3518bd77",
   "metadata": {},
   "outputs": [],
   "source": [
    "import numpy as np\n",
    "import matplotlib.pyplot as plt"
   ]
  },
  {
   "cell_type": "markdown",
   "id": "0181f853",
   "metadata": {},
   "source": [
    "### Softmax 函数\n",
    "g 代表一个常用的逻辑函数（logistic function）为S形函数（Softmax function），公式为： \\\\[g\\left( v_i \\right)=\\frac{{{e}^{v_i}}}{sum({{e}^{v_i}})}\\\\] "
   ]
  },
  {
   "cell_type": "code",
   "execution_count": 11,
   "id": "115c06b5",
   "metadata": {},
   "outputs": [],
   "source": [
    "def softmax(z):\n",
    "    '''\n",
    "    softmax 函数\n",
    "    Args:\n",
    "        z (m, n): 输入\n",
    "    Returns:\n",
    "        g (m, n): softmax 函数输出\n",
    "    '''\n",
    "    d = np.exp(z)\n",
    "    # 注意 d sum时的axis\n",
    "    return d / d.sum(axis = 1).reshape(-1, 1)"
   ]
  },
  {
   "cell_type": "markdown",
   "id": "3491acd0",
   "metadata": {},
   "source": [
    "### Softmax函数的梯度的函数"
   ]
  },
  {
   "cell_type": "code",
   "execution_count": 12,
   "id": "d478823b",
   "metadata": {},
   "outputs": [],
   "source": [
    "def softmax_gradient(z):\n",
    "    return np.multiply(softmax(z), (1 - softmax(z)))"
   ]
  },
  {
   "cell_type": "markdown",
   "id": "e4f93278",
   "metadata": {},
   "source": [
    "### 前向传播函数\n",
    "\n",
    "单隐层网络，注意偏置 b = 0。"
   ]
  },
  {
   "cell_type": "code",
   "execution_count": 13,
   "id": "5a030396",
   "metadata": {},
   "outputs": [],
   "source": [
    "def forward_propagate(X, theta1, theta2):\n",
    "    '''\n",
    "    前向传播函数\n",
    "    Args:\n",
    "        X (m, n): m个样本，n个特征\n",
    "        theta1 (t, n): t个神经元\n",
    "        theta2 (k, t): k个输出\n",
    "    Returns:\n",
    "        a1 (m, n)\n",
    "        z2 (m, t)\n",
    "        a2 (m, t)\n",
    "        z3 (m, k)\n",
    "        h (m, k)\n",
    "    '''\n",
    "    m = X.shape[0]\n",
    "\n",
    "    # 激活项a, 线性输出z\n",
    "    a1 = X\n",
    "    z2 = a1 * theta1.T\n",
    "    a2 = softmax(z2)\n",
    "    z3 = a2 * theta2.T\n",
    "    h = softmax(z3)\n",
    "\n",
    "    return a1, z2, a2, z3, h"
   ]
  },
  {
   "cell_type": "markdown",
   "id": "1f71e259",
   "metadata": {},
   "source": [
    "### 代价函数\n",
    "\n",
    "交叉熵代价函数。\n",
    "\n",
    "![img](./img/nn_cost.png)"
   ]
  },
  {
   "cell_type": "code",
   "execution_count": 14,
   "id": "02c1b9d3",
   "metadata": {},
   "outputs": [],
   "source": [
    "def cost_fcn(params, input_size, hidden_size, num_labels, X, y):\n",
    "    '''\n",
    "    交叉熵代价函数\n",
    "    Args:\n",
    "        params (hidden_size * input_size + num_labels * hidden_size, ): 参数\n",
    "        input_size (int): 输入的特征数\n",
    "        hidden_size (int): 隐藏层的神经元数\n",
    "        num_labels (int): 输出层神经元数/类别数\n",
    "        X (m, n): m个样本，n个特征\n",
    "        y (m, k): 真实值, k个类别\n",
    "    Returns:\n",
    "        cost (int): 代价\n",
    "    '''\n",
    "    m = X.shape[0]\n",
    "    X = np.matrix(X)\n",
    "    y = np.matrix(y)\n",
    "    \n",
    "    # reshape the parameter array into parameter matrices for each layer\n",
    "    theta1 = np.matrix(np.reshape(params[:hidden_size * input_size], (hidden_size, input_size)))\n",
    "    theta2 = np.matrix(np.reshape(params[hidden_size * input_size:], (num_labels, hidden_size)))\n",
    "    \n",
    "    # run the feed-forward pass\n",
    "    a1, z2, a2, z3, h = forward_propagate(X, theta1, theta2)\n",
    "    \n",
    "    # compute the cost\n",
    "    J = np.multiply(-y, np.log(h)) - np.multiply((1 - y), np.log(1 - h))\n",
    "    cost = J.sum().sum() / m\n",
    "\n",
    "    return cost"
   ]
  },
  {
   "cell_type": "markdown",
   "id": "f128719b",
   "metadata": {},
   "source": [
    "### BP算法\n",
    "\n",
    "交叉熵代价函数 + Softmax。"
   ]
  },
  {
   "cell_type": "code",
   "execution_count": 15,
   "id": "b49288c2",
   "metadata": {},
   "outputs": [],
   "source": [
    "def backprop(params, input_size, hidden_size, num_labels, X, y):\n",
    "    '''\n",
    "    执行反向传播并返回代价和梯度\n",
    "    Args:\n",
    "        params (hidden_size * input_size + num_labels * hidden_size, ): 参数\n",
    "        input_size (int): 输入的特征数\n",
    "        hidden_size (int): 隐藏层的神经元数\n",
    "        num_labels (int): 输出层神经元数/类别数\n",
    "        X (m, n): m个样本，n个特征\n",
    "        y (m, k): 真实值, k个类别\n",
    "    Returns:\n",
    "        cost (int): 代价\n",
    "        grad (hidden_size * input_size + num_labels * hidden_size, ): 梯度\n",
    "    '''\n",
    "        \n",
    "    m = X.shape[0]\n",
    "    \n",
    "    # 将参数数组重构为每一层的参数矩阵\n",
    "    theta1 = np.matrix(np.reshape(params[:hidden_size * input_size], (hidden_size, input_size)))\n",
    "    theta2 = np.matrix(np.reshape(params[hidden_size * input_size:], (num_labels, hidden_size)))\n",
    "    \n",
    "    # 前向传播\n",
    "    a1, z2, a2, z3, h = forward_propagate(X, theta1, theta2)\n",
    "    \n",
    "    # 计算损失\n",
    "    J = np.multiply(-y, np.log(h)) - np.multiply((1 - y), np.log(1 - h))\n",
    "    cost = J.sum().sum() / m\n",
    "    \n",
    "    # 误差反向传播\n",
    "    error3 = h - y\n",
    "    delta3 = error3\n",
    "    error2 = delta3 @ theta2\n",
    "    delta2 = np.multiply(error2, softmax_gradient(z2))\n",
    "    # 计算梯度  \n",
    "    grad2 = delta3.T @ a2 / m \n",
    "    grad1 = delta2.T @ a1 / m\n",
    "    \n",
    "    # 将梯度矩阵分解成单个数组\n",
    "    grad = np.concatenate((np.ravel(grad1), np.ravel(grad2)))\n",
    "    \n",
    "    return cost, grad"
   ]
  },
  {
   "cell_type": "markdown",
   "id": "f486f139",
   "metadata": {},
   "source": [
    "训练函数。"
   ]
  },
  {
   "cell_type": "code",
   "execution_count": 16,
   "id": "ebb86fad",
   "metadata": {},
   "outputs": [],
   "source": [
    "def train(X, y, params, input_size, hidden_size, num_labels, alpha, iters, step = -1):\n",
    "    '''\n",
    "    训练函数\n",
    "    Args:\n",
    "        X (m, n): m个样本，n个特征\n",
    "        y (m, k): 真实值, k个类别\n",
    "        params (hidden_size * input_size + num_labels * hidden_size, ): 参数\n",
    "        input_size (int): 输入的特征数\n",
    "        hidden_size (int): 隐藏层的神经元数\n",
    "        num_labels (int): 输出层神经元数/类别数\n",
    "        alpha (int): 学习率\n",
    "        iters (int): 最大迭代次数\n",
    "        step (int): 每组样本的数量\n",
    "    Returns:\n",
    "        g(1, n): 参数最终值\n",
    "        cost(iters, 1): 代价函数历史值\n",
    "    '''\n",
    "    m = X.shape[0]\n",
    "    g = params.copy()\n",
    "    cost = np.matrix(np.zeros((iters, 1)))\n",
    "    \n",
    "    # 默认为批量\n",
    "    if step == -1:\n",
    "        step = m\n",
    "    \n",
    "    for i in range(iters):\n",
    "        for j in range(0, m, step):\n",
    "            Xs = X[j:j+step, :]\n",
    "            ys = y[j:j+step]\n",
    "            \n",
    "            # 计算梯度和损失\n",
    "            J, grad = backprop(g, input_size, hidden_size, num_labels, X, y)\n",
    "            \n",
    "            g = g - alpha * grad\n",
    "            cost[i, 0] = J\n",
    "\n",
    "    return g, cost"
   ]
  },
  {
   "cell_type": "markdown",
   "id": "576e7425",
   "metadata": {},
   "source": [
    "---"
   ]
  },
  {
   "cell_type": "markdown",
   "id": "61d80b5e",
   "metadata": {},
   "source": [
    "## 作业9\n",
    "\n",
    "设计多分类问题的网络结构。\n",
    "\n",
    "输入层节点数：25\n",
    "隐层节点数：50\n",
    "输出层节点数：5"
   ]
  },
  {
   "cell_type": "code",
   "execution_count": 17,
   "id": "3dda2f0c",
   "metadata": {},
   "outputs": [],
   "source": [
    "# 初始化设置\n",
    "input_size = 25\n",
    "hidden_size = 50\n",
    "num_labels = 5\n",
    "alpha = 0.9\n",
    "epoch = 2000"
   ]
  },
  {
   "cell_type": "markdown",
   "id": "2c2fa966",
   "metadata": {},
   "source": [
    "## 作业10\n",
    "\n",
    "用训练数据训练网络，用测试数据测试训练结果(注:运行多次观察结果是否变化，思考原因)\n",
    "\n",
    "![img](./img/10.png)"
   ]
  },
  {
   "cell_type": "code",
   "execution_count": 22,
   "id": "2cd4341d",
   "metadata": {},
   "outputs": [
    {
     "name": "stdout",
     "output_type": "stream",
     "text": [
      "1500\n",
      "训练数据网络预测值：\n",
      "[[9.88315749e-01 1.16188942e-02 2.10188552e-08 4.14332457e-05\n",
      "  2.39025936e-05]\n",
      " [1.21000060e-02 9.70252753e-01 1.21082060e-02 2.42890237e-03\n",
      "  3.11013253e-03]\n",
      " [2.14196517e-08 1.15971368e-02 9.88324558e-01 2.03888613e-05\n",
      "  5.78945873e-05]\n",
      " [1.30778375e-03 2.29781026e-03 1.13517746e-03 9.94406481e-01\n",
      "  8.52747618e-04]\n",
      " [1.34777396e-03 3.52418374e-03 1.70465859e-03 9.40526649e-04\n",
      "  9.92482857e-01]]\n",
      "训练数据损失: [[0.02668829]]\n",
      "\n",
      "测试数据网络预测值: \n",
      "[[2]\n",
      " [3]\n",
      " [3]\n",
      " [3]\n",
      " [3]]\n",
      "测试数据损失: 6.974227931555005\n"
     ]
    },
    {
     "data": {
      "image/png": "[encoded data removed]",
      "text/plain": [
       "<Figure size 640x480 with 1 Axes>"
      ]
     },
     "metadata": {},
     "output_type": "display_data"
    }
   ],
   "source": [
    "# 数据\n",
    "X = np.array([[[0, 1, 1, 0, 0],\n",
    "               [0, 0, 1, 0, 0],\n",
    "               [0, 0, 1, 0, 0],\n",
    "               [0, 0, 1, 0, 0],\n",
    "               [0, 1, 1, 1, 0]],\n",
    "             \n",
    "              [[1, 1, 1, 1, 0],\n",
    "               [0, 0, 0, 0, 1],\n",
    "               [0, 1, 1, 1, 0],\n",
    "               [1, 0, 0, 0, 0],\n",
    "               [1, 1, 1, 1, 1]],\n",
    "              \n",
    "              [[1, 1, 1, 1, 0],\n",
    "               [0, 0, 0, 0, 1],\n",
    "               [0, 1, 1, 1, 0],\n",
    "               [0, 0, 0, 0, 1],\n",
    "               [1, 1, 1, 1, 0]],\n",
    "              \n",
    "              [[0, 0, 0, 1, 0],\n",
    "               [0, 0, 1, 1, 0],\n",
    "               [0, 1, 0, 1, 0],\n",
    "               [1, 1, 1, 1, 1],\n",
    "               [0, 0, 0, 1, 0]],\n",
    "              \n",
    "              [[1, 1, 1, 1, 1],\n",
    "               [1, 0, 0, 0, 0],\n",
    "               [1, 1, 1, 1, 0],\n",
    "               [0, 0, 0, 0, 1],\n",
    "               [1, 1, 1, 1, 0]]])\n",
    "\n",
    "testdata = np.array([[[0, 0, 1, 1, 0],\n",
    "                       [0, 0, 1, 1, 0],\n",
    "                       [0, 1, 0, 1, 0],\n",
    "                       [0, 0, 0, 1, 0],\n",
    "                       [0, 1, 1, 1, 0]],\n",
    "\n",
    "                      [[1, 1, 1, 1, 0],\n",
    "                       [0, 0, 0, 0, 1],\n",
    "                       [0, 1, 1, 1, 0],\n",
    "                       [1, 0, 0, 0, 1],\n",
    "                       [1, 1, 1, 1, 1]],\n",
    "\n",
    "                      [[1, 1, 1, 1, 0],\n",
    "                       [0, 0, 0, 0, 1],\n",
    "                       [0, 1, 1, 1, 0],\n",
    "                       [1, 0, 0, 0, 1],\n",
    "                       [1, 1, 1, 1, 0]],\n",
    "\n",
    "                      [[0, 1, 1, 1, 0],\n",
    "                       [0, 1, 0, 0, 0],\n",
    "                       [0, 1, 1, 1, 0],\n",
    "                       [0, 0, 0, 1, 0],\n",
    "                       [0, 1, 1, 1, 0]],\n",
    "\n",
    "                      [[0, 1, 1, 1, 1],\n",
    "                       [0, 1, 0, 0, 0],\n",
    "                       [0, 1, 1, 1, 0],\n",
    "                       [0, 0, 0, 1, 0],\n",
    "                       [1, 1, 1, 1, 0]]])\n",
    "\n",
    "y = np.eye(5)\n",
    "\n",
    "X = X.transpose(0, 2, 1).reshape(5, 25)\n",
    "m = X.shape[0]\n",
    "X = np.matrix(X)\n",
    "y = np.matrix(y)\n",
    "\n",
    "# 随机初始化完整网络参数大小的参数数组\n",
    "params = np.random.random(size = hidden_size * input_size + num_labels * hidden_size) * 2 - 1\n",
    "\n",
    "# 训练\n",
    "thetas, cost = train(X, y, params, input_size, hidden_size, num_labels, alpha, epoch)\n",
    "\n",
    "# 观察输出\n",
    "testdata = testdata.transpose(0, 2, 1).reshape(5, 25)\n",
    "testdata = np.matrix(testdata)\n",
    "ytest = np.eye(5)\n",
    "ytest[3,3] = 0\n",
    "ytest[3,4] = 1\n",
    "theta1 = np.reshape(thetas[:hidden_size * input_size], (hidden_size, input_size))\n",
    "theta2 = np.reshape(thetas[hidden_size * input_size:], (num_labels, hidden_size))\n",
    "print(f'''训练数据网络预测值：\\n{forward_propagate(X, theta1, theta2)[-1]}\n",
    "训练数据损失: {cost[-1]}\n",
    "\n",
    "测试数据网络预测值: \\n{forward_propagate(testdata, theta1, theta2)[-1].argmax(axis=1)+1}\n",
    "测试数据损失: {cost_fcn(thetas, input_size, hidden_size, num_labels, testdata, ytest)}''')\n",
    "\n",
    "# 绘制曲线\n",
    "fig, ax = plt.subplots()\n",
    "t = np.linspace(1, epoch, epoch)                # 创建t的取值范围\n",
    "ax.plot(t, m * cost)                            # 作误差曲线\n",
    "\n",
    "ax.set_xlabel('epoch')\n",
    "ax.set_ylabel('error')\n",
    "ax.set_title('epoch-error curve')\n",
    "\n",
    "plt.show() "
   ]
  },
  {
   "cell_type": "markdown",
   "id": "2d9ce79a",
   "metadata": {},
   "source": [
    "为便于观察，使用argmax函数展现测试数据的预测结果，多次测试结果多次出现变化。\n",
    "\n",
    "原因：\n",
    "需要更加丰富的特征(5 x 5过少)和更大的训练集。\n",
    "\n",
    "加上偏置。"
   ]
  },
  {
   "cell_type": "markdown",
   "id": "b847ca82",
   "metadata": {},
   "source": [
    "---"
   ]
  },
  {
   "cell_type": "markdown",
   "id": "47953386",
   "metadata": {},
   "source": [
    "## 作业11\n",
    "\n",
    "尝试构造其它测试数据测试网络。"
   ]
  },
  {
   "cell_type": "code",
   "execution_count": 16,
   "id": "f622c01c",
   "metadata": {},
   "outputs": [
    {
     "name": "stdout",
     "output_type": "stream",
     "text": [
      "测试数据网络预测值: \n",
      "[[1]\n",
      " [2]\n",
      " [5]\n",
      " [4]\n",
      " [5]]\n",
      "测试数据损失: 0.4228558371104397\n"
     ]
    }
   ],
   "source": [
    "testdata = np.array([[[0, 0, 0, 0, 0],\n",
    "               [0, 0, 1, 0, 0],\n",
    "               [0, 0, 1, 0, 0],\n",
    "               [0, 0, 1, 0, 0],\n",
    "               [1, 1, 1, 1, 1]],\n",
    "             \n",
    "              [[0, 0, 1, 1, 1],\n",
    "               [0, 0, 0, 0, 1],\n",
    "               [1, 1, 1, 1, 1],\n",
    "               [1, 0, 0, 0, 0],\n",
    "               [1, 1, 1, 0, 0]],\n",
    "              \n",
    "              [[1, 1, 1, 1, 1],\n",
    "               [0, 0, 0, 0, 1],\n",
    "               [1, 1, 1, 1, 1],\n",
    "               [0, 0, 0, 0, 1],\n",
    "               [1, 1, 1, 1, 1]],\n",
    "              \n",
    "              [[0, 0, 0, 1, 0],\n",
    "               [0, 0, 1, 1, 0],\n",
    "               [0, 1, 1, 1, 0],\n",
    "               [1, 1, 1, 1, 1],\n",
    "               [0, 0, 0, 1, 0]],\n",
    "              \n",
    "              [[1, 1, 1, 1, 1],\n",
    "               [1, 0, 0, 0, 0],\n",
    "               [1, 1, 1, 1, 1],\n",
    "               [0, 0, 0, 0, 1],\n",
    "               [1, 1, 1, 1, 1]]])\n",
    "\n",
    "testdata = testdata.transpose(0, 2, 1).reshape(5, 25)\n",
    "testdata = np.matrix(testdata)\n",
    "ytest = np.eye(5)\n",
    "print(f'''测试数据网络预测值: \\n{forward_propagate(testdata, theta1, theta2)[-1].argmax(axis=1)+1}\n",
    "测试数据损失: {cost_fcn(thetas, input_size, hidden_size, num_labels, testdata, ytest)}''')"
   ]
  }
 ],
 "metadata": {
  "kernelspec": {
   "display_name": "Python 3 (ipykernel)",
   "language": "python",
   "name": "python3"
  },
  "language_info": {
   "codemirror_mode": {
    "name": "ipython",
    "version": 3
   },
   "file_extension": ".py",
   "mimetype": "text/x-python",
   "name": "python",
   "nbconvert_exporter": "python",
   "pygments_lexer": "ipython3",
   "version": "3.7.16"
  }
 },
 "nbformat": 4,
 "nbformat_minor": 5
}
