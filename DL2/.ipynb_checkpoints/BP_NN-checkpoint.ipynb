{
 "cells": [
  {
   "cell_type": "markdown",
   "id": "fe4f5ed5",
   "metadata": {},
   "source": [
    "# 反向传播算法"
   ]
  },
  {
   "cell_type": "markdown",
   "id": "d5fee3b6",
   "metadata": {},
   "source": [
    "请使用jupyter完成相关代码的运行。 若未安装该依赖，直接阅读该 pdf 文件同样可以获取练习结果。"
   ]
  },
  {
   "cell_type": "markdown",
   "id": "063383d9",
   "metadata": {},
   "source": [
    "---"
   ]
  },
  {
   "cell_type": "markdown",
   "id": "8b03aa33",
   "metadata": {},
   "source": [
    "## 模型与数据\n",
    "\n",
    "![img](./img/1.png)"
   ]
  },
  {
   "cell_type": "markdown",
   "id": "0be6653f",
   "metadata": {},
   "source": [
    "---"
   ]
  },
  {
   "cell_type": "markdown",
   "id": "6877b357",
   "metadata": {},
   "source": [
    "## 准备工作"
   ]
  },
  {
   "cell_type": "markdown",
   "id": "67abed6d",
   "metadata": {},
   "source": [
    "### 导入依赖。"
   ]
  },
  {
   "cell_type": "code",
   "execution_count": 1,
   "id": "3518bd77",
   "metadata": {},
   "outputs": [],
   "source": [
    "import numpy as np\n",
    "import matplotlib.pyplot as plt"
   ]
  },
  {
   "cell_type": "markdown",
   "id": "0181f853",
   "metadata": {},
   "source": [
    "### sigmoid 函数\n",
    "g 代表一个常用的逻辑函数（logistic function）为S形函数（Sigmoid function），公式为： \\\\[g\\left( z \\right)=\\frac{1}{1+{{e}^{-z}}}\\\\] "
   ]
  },
  {
   "cell_type": "code",
   "execution_count": 2,
   "id": "115c06b5",
   "metadata": {},
   "outputs": [],
   "source": [
    "def sigmoid(z):\n",
    "    '''\n",
    "    sigmoid 函数\n",
    "    Args:\n",
    "        z (m, n): 输入\n",
    "    Returns:\n",
    "        g (m, n): sigmoid 函数输出\n",
    "    '''\n",
    "    d = 1 + np.exp(-z)\n",
    "    return 1. / d"
   ]
  },
  {
   "cell_type": "markdown",
   "id": "3491acd0",
   "metadata": {},
   "source": [
    "### Sigmoid函数的梯度的函数"
   ]
  },
  {
   "cell_type": "code",
   "execution_count": 3,
   "id": "d478823b",
   "metadata": {},
   "outputs": [],
   "source": [
    "def sigmoid_gradient(z):\n",
    "    return np.multiply(sigmoid(z), (1 - sigmoid(z)))"
   ]
  },
  {
   "cell_type": "markdown",
   "id": "e4f93278",
   "metadata": {},
   "source": [
    "### 前向传播函数\n",
    "\n",
    "单隐层网络，注意偏置 b = 0。"
   ]
  },
  {
   "cell_type": "code",
   "execution_count": 4,
   "id": "5a030396",
   "metadata": {},
   "outputs": [],
   "source": [
    "def forward_propagate(X, theta1, theta2):\n",
    "    '''\n",
    "    前向传播函数\n",
    "    Args:\n",
    "        X (m, n): m个样本，n个特征\n",
    "        theta1 (t, n): t个神经元\n",
    "        theta2 (k, t): k个输出\n",
    "    Returns:\n",
    "        a1 (m, n)\n",
    "        z2 (m, t)\n",
    "        a2 (m, t)\n",
    "        z3 (m, k)\n",
    "        h (m, k)\n",
    "    '''\n",
    "    m = X.shape[0]\n",
    "\n",
    "    # 激活项a, 线性输出z\n",
    "    a1 = X\n",
    "    z2 = a1 * theta1.T\n",
    "    a2 = sigmoid(z2)\n",
    "    z3 = a2 * theta2.T\n",
    "    h = sigmoid(z3)\n",
    "\n",
    "    return a1, z2, a2, z3, h"
   ]
  },
  {
   "cell_type": "markdown",
   "id": "1f71e259",
   "metadata": {},
   "source": [
    "### 代价函数\n",
    "\n",
    "创建一个以参数θ为特征函数的代价函数\n",
    "$$J\\left( \\theta  \\right)=\\frac{1}{2m}\\sum\\limits_{i=1}^{m}{{{\\left( {{h}_{\\theta }}\\left( {{x}^{(i)}} \\right)-{{y}^{(i)}} \\right)}^{2}}}$$\n",
    "其中：\\\\[{{h}_{\\theta }}\\left( x \\right)={{\\theta }^{T}}X={{\\theta }_{0}}{{x}_{0}}+{{\\theta }_{1}}{{x}_{1}}+{{\\theta }_{2}}{{x}_{2}}+...+{{\\theta }_{n}}{{x}_{n}}\\\\] "
   ]
  },
  {
   "cell_type": "code",
   "execution_count": 5,
   "id": "02c1b9d3",
   "metadata": {},
   "outputs": [],
   "source": [
    "def cost(params, input_size, hidden_size, num_labels, X, y):\n",
    "    '''\n",
    "    代价函数\n",
    "    Args:\n",
    "        params (hidden_size * input_size + num_labels * hidden_size, ): 参数\n",
    "        input_size (int): 输入的特征数\n",
    "        hidden_size (int): 隐藏层的神经元数\n",
    "        num_labels (int): 输出层神经元数/类别数\n",
    "        X (m, n): m个样本，n个特征\n",
    "        y (m, k): 需要拟合的值, k个类别\n",
    "    Returns:\n",
    "        cost (int): 代价\n",
    "    '''\n",
    "    m = X.shape[0]\n",
    "    \n",
    "    # 将参数数组重构为每一层的参数矩阵\n",
    "    theta1 = np.reshape(params[:hidden_size * input_size], (hidden_size, input_size))\n",
    "    theta2 = np.reshape(params[hidden_size * input_size:], (num_labels, hidden_size))\n",
    "    \n",
    "    # 前向传播\n",
    "    _, _, _, _, h = forward_propagate(X, theta1, theta2)\n",
    "    \n",
    "    # 计算损失\n",
    "    J = np.power(h - y, 2)\n",
    "    cost = J.sum()/2/m\n",
    "\n",
    "    return cost"
   ]
  },
  {
   "cell_type": "markdown",
   "id": "f128719b",
   "metadata": {},
   "source": [
    "### BP算法\n",
    "\n",
    "扩展代价函数以执行反向传播并返回代价和梯度。\n",
    "\n",
    "只需要循环迭代计算每一层每个节点的 δ, e ...等值即可求得当前层的偏导数,从而得到每层权值矩阵 W 的梯度,再通过梯度下降算法迭代优化网络参数即可。\n",
    "\n",
    "![img](./img/2.png)"
   ]
  },
  {
   "cell_type": "code",
   "execution_count": 6,
   "id": "b49288c2",
   "metadata": {},
   "outputs": [],
   "source": [
    "def backprop(params, input_size, hidden_size, num_labels, X, y):\n",
    "    '''\n",
    "    执行反向传播并返回代价和梯度\n",
    "    Args:\n",
    "        params (hidden_size * input_size + num_labels * hidden_size, ): 参数\n",
    "        input_size (int): 输入的特征数\n",
    "        hidden_size (int): 隐藏层的神经元数\n",
    "        num_labels (int): 输出层神经元数/类别数\n",
    "        X (m, n): m个样本，n个特征\n",
    "        y (m, k): 真实值, k个类别\n",
    "    Returns:\n",
    "        cost (int): 代价\n",
    "        grad (hidden_size * input_size + num_labels * hidden_size, ): 梯度\n",
    "    '''\n",
    "        \n",
    "    m = X.shape[0]\n",
    "    \n",
    "    # 将参数数组重构为每一层的参数矩阵\n",
    "    theta1 = np.matrix(np.reshape(params[:hidden_size * input_size], (hidden_size, input_size)))\n",
    "    theta2 = np.matrix(np.reshape(params[hidden_size * input_size:], (num_labels, hidden_size)))\n",
    "    \n",
    "    # 前向传播\n",
    "    a1, z2, a2, z3, h = forward_propagate(X, theta1, theta2)\n",
    "    \n",
    "    # 计算损失\n",
    "    J = np.power(h - y, 2)\n",
    "    cost = J.sum()/2/m\n",
    "    \n",
    "    # 误差反向传播\n",
    "    error3 = h - y\n",
    "    delta3 = np.multiply(error3, sigmoid_gradient(z3)) \n",
    "    error2 = delta3 @ theta2\n",
    "    delta2 = np.multiply(error2, sigmoid_gradient(z2))\n",
    "    # 计算梯度  \n",
    "    grad2 = delta3.T @ a2 / m \n",
    "    grad1 = delta2.T @ a1 / m\n",
    "    \n",
    "    # 将梯度矩阵分解成单个数组\n",
    "    grad = np.concatenate((np.ravel(grad1), np.ravel(grad2)))\n",
    "    \n",
    "    return cost, grad"
   ]
  },
  {
   "cell_type": "markdown",
   "id": "f486f139",
   "metadata": {},
   "source": [
    "训练函数。"
   ]
  },
  {
   "cell_type": "code",
   "execution_count": 7,
   "id": "ebb86fad",
   "metadata": {},
   "outputs": [],
   "source": [
    "def train(X, y, params, input_size, hidden_size, num_labels, alpha, iters, step = -1):\n",
    "    '''\n",
    "    训练函数\n",
    "    Args:\n",
    "        X (m, n): m个样本，n个特征\n",
    "        y (m, k): 真实值, k个类别\n",
    "        params (hidden_size * input_size + num_labels * hidden_size, ): 参数\n",
    "        input_size (int): 输入的特征数\n",
    "        hidden_size (int): 隐藏层的神经元数\n",
    "        num_labels (int): 输出层神经元数/类别数\n",
    "        alpha (int): 学习率\n",
    "        iters (int): 最大迭代次数\n",
    "        step (int): 每组样本的数量\n",
    "    Returns:\n",
    "        g(1, n): 参数最终值\n",
    "        cost(iters, 1): 代价函数历史值\n",
    "    '''\n",
    "    m = X.shape[0]\n",
    "    g = params.copy()\n",
    "    cost = np.matrix(np.zeros((iters, 1)))\n",
    "    \n",
    "    # 默认为批量\n",
    "    if step == -1:\n",
    "        step = m\n",
    "    \n",
    "    for i in range(iters):\n",
    "        for j in range(0, m, step):\n",
    "            Xs = X[j:j+step, :]\n",
    "            ys = y[j:j+step]\n",
    "            \n",
    "            # 计算梯度和损失\n",
    "            J, grad = backprop(g, input_size, hidden_size, num_labels, X, y)\n",
    "            \n",
    "            g = g - alpha * grad\n",
    "            cost[i, 0] = J\n",
    "\n",
    "    return g, cost"
   ]
  },
  {
   "cell_type": "markdown",
   "id": "576e7425",
   "metadata": {},
   "source": [
    "---"
   ]
  },
  {
   "cell_type": "markdown",
   "id": "61d80b5e",
   "metadata": {},
   "source": [
    "## 作业4\n",
    "\n",
    "训练浅层 NN 解决 XOR 问题。"
   ]
  },
  {
   "cell_type": "code",
   "execution_count": 8,
   "id": "2cd4341d",
   "metadata": {},
   "outputs": [
    {
     "name": "stdout",
     "output_type": "stream",
     "text": [
      "系数1:\n",
      " [[-1.43840345 -2.57850287 -0.59951949]\n",
      " [ 5.66912409 -6.46909792 -2.98745337]\n",
      " [ 5.904235   -4.71327075  2.02651503]\n",
      " [ 0.15486005  1.27992053  1.3908879 ]]\n",
      "系数2: \n",
      "[[-1.94191418  8.9657461  -7.9632331   4.25257878]]\n",
      "网络输出值: \n",
      "[[0.0200602 ]\n",
      " [0.96747408]\n",
      " [0.97616627]\n",
      " [0.03040378]]\n",
      "\n"
     ]
    },
    {
     "data": {
      "image/png": "[encoded data removed]",
      "text/plain": [
       "<Figure size 640x480 with 1 Axes>"
      ]
     },
     "metadata": {},
     "output_type": "display_data"
    }
   ],
   "source": [
    "# 数据\n",
    "X = np.array([[0, 0, 1],\n",
    "             [0, 1, 1],\n",
    "             [1, 0, 1],\n",
    "             [1, 1, 1]])\n",
    "y = np.array([0, 1, 1, 0])\n",
    "\n",
    "m = X.shape[0]\n",
    "X = np.matrix(X)\n",
    "y = np.matrix(y).T\n",
    "\n",
    "# 初始化设置\n",
    "input_size = 3\n",
    "hidden_size = 4\n",
    "num_labels = 1\n",
    "alpha = 0.9\n",
    "epoch = 10000\n",
    "\n",
    "# 随机初始化完整网络参数大小的参数数组\n",
    "params = np.random.random(size = hidden_size * input_size + num_labels * hidden_size) * 2 - 1\n",
    "\n",
    "# 训练\n",
    "thetas, cost = train(X, y, params, input_size, hidden_size, num_labels, alpha, epoch)\n",
    "\n",
    "# 观察输出\n",
    "theta1 = np.reshape(thetas[:hidden_size * input_size], (hidden_size, input_size))\n",
    "theta2 = np.reshape(thetas[hidden_size * input_size:], (num_labels, hidden_size))\n",
    "print(f\"系数1:\\n {theta1}\\n系数2: \\n{theta2}\\n网络输出值: \\n{forward_propagate(X, theta1, theta2)[-1]}\\n\")\n",
    "\n",
    "# 绘制曲线\n",
    "fig, ax = plt.subplots()\n",
    "t = np.linspace(1, epoch, epoch)                # 创建t的取值范围\n",
    "ax.plot(t, m * cost)                            # 作误差曲线\n",
    "\n",
    "ax.set_xlabel('epoch')\n",
    "ax.set_ylabel('error')\n",
    "ax.set_title('epoch-error curve')\n",
    "\n",
    "plt.show() "
   ]
  },
  {
   "cell_type": "markdown",
   "id": "b847ca82",
   "metadata": {},
   "source": [
    "---"
   ]
  },
  {
   "cell_type": "markdown",
   "id": "47953386",
   "metadata": {},
   "source": [
    "## 作业5\n",
    "\n",
    "尝试改变隐层节点个数(3、5、2? )。\n",
    "\n",
    "观察能否解决XOR问题?\n",
    "\n",
    "如何避免不收敛?"
   ]
  },
  {
   "cell_type": "code",
   "execution_count": 11,
   "id": "f622c01c",
   "metadata": {},
   "outputs": [
    {
     "name": "stdout",
     "output_type": "stream",
     "text": [
      "隐层节点个数: 3\n",
      "系数1:\n",
      " [[-4.18166254 -7.14489607  0.29824602]\n",
      " [ 3.5675181   6.48387762  0.32958995]\n",
      " [-2.32086161  7.5832083   1.26041126]]\n",
      "系数2: \n",
      "[[-4.73340388  4.67795666 -4.6736684 ]]\n",
      "网络输出值: \n",
      "[[0.02564816]\n",
      " [0.49870035]\n",
      " [0.96398893]\n",
      " [0.50273115]]\n",
      "\n",
      "隐层节点个数: 5\n",
      "系数1:\n",
      " [[-4.55787273 -4.08789214  6.55420179]\n",
      " [ 0.88983252 -0.12138539  0.44866493]\n",
      " [ 0.93984584  0.5322498  -0.65003489]\n",
      " [-5.75979885 -6.08683695  2.40498726]\n",
      " [-1.00358538  2.14101103  0.97853529]]\n",
      "系数2: \n",
      "[[ 8.38065816 -1.50438508 -1.63658538 -9.5987283  -2.40886527]]\n",
      "网络输出值: \n",
      "[[0.02495128]\n",
      " [0.97174464]\n",
      " [0.97673698]\n",
      " [0.02855504]]\n",
      "\n",
      "隐层节点个数: 2\n",
      "系数1:\n",
      " [[-5.88401913  5.73966199 -3.14168374]\n",
      " [-7.27827899  7.27645832  1.28179167]]\n",
      "系数2: \n",
      "[[ 8.96798948 -4.82547967]]\n",
      "网络输出值: \n",
      "[[0.03211748]\n",
      " [0.97131385]\n",
      " [0.49727629]\n",
      " [0.03069894]]\n",
      "\n"
     ]
    },
    {
     "data": {
      "image/png": "[encoded data removed]",
      "text/plain": [
       "<Figure size 640x480 with 1 Axes>"
      ]
     },
     "metadata": {},
     "output_type": "display_data"
    }
   ],
   "source": [
    "# 改变隐层节点个数并进行训练\n",
    "hidden_size = 3\n",
    "params = np.random.random(size = hidden_size * input_size + num_labels * hidden_size) * 2 - 1\n",
    "thetas, cost3 = train(X, y, params, input_size, hidden_size, num_labels, alpha, epoch)\n",
    "theta1 = np.reshape(thetas[:hidden_size * input_size], (hidden_size, input_size))\n",
    "theta2 = np.reshape(thetas[hidden_size * input_size:], (num_labels, hidden_size))\n",
    "print(f\"隐层节点个数: 3\\n系数1:\\n {theta1}\\n系数2: \\n{theta2}\\n网络输出值: \\n{forward_propagate(X, theta1, theta2)[-1]}\\n\")\n",
    "\n",
    "hidden_size = 5\n",
    "params = np.random.random(size = hidden_size * input_size + num_labels * hidden_size) * 2 - 1\n",
    "thetas, cost5 = train(X, y, params, input_size, hidden_size, num_labels, alpha, epoch)\n",
    "theta1 = np.reshape(thetas[:hidden_size * input_size], (hidden_size, input_size))\n",
    "theta2 = np.reshape(thetas[hidden_size * input_size:], (num_labels, hidden_size))\n",
    "print(f\"隐层节点个数: 5\\n系数1:\\n {theta1}\\n系数2: \\n{theta2}\\n网络输出值: \\n{forward_propagate(X, theta1, theta2)[-1]}\\n\")\n",
    "\n",
    "hidden_size = 2\n",
    "params = np.random.random(size = hidden_size * input_size + num_labels * hidden_size) * 2 - 1\n",
    "thetas, cost2 = train(X, y, params, input_size, hidden_size, num_labels, alpha, epoch)\n",
    "theta1 = np.reshape(thetas[:hidden_size * input_size], (hidden_size, input_size))\n",
    "theta2 = np.reshape(thetas[hidden_size * input_size:], (num_labels, hidden_size))\n",
    "print(f\"隐层节点个数: 2\\n系数1:\\n {theta1}\\n系数2: \\n{theta2}\\n网络输出值: \\n{forward_propagate(X, theta1, theta2)[-1]}\\n\")\n",
    "\n",
    "# 绘制曲线\n",
    "fig, ax = plt.subplots()\n",
    "t = np.linspace(1, epoch, epoch)                # 创建t的取值范围\n",
    "ax.plot(t, m * cost2, label='2')               # 作误差曲线\n",
    "ax.plot(t, m * cost3, label='3') \n",
    "ax.plot(t, m * cost, label='4') \n",
    "ax.plot(t, m * cost5, label='5') \n",
    "\n",
    "ax.set_xlabel('epoch')\n",
    "ax.set_ylabel('error')\n",
    "ax.set_title('epoch-error curve')\n",
    "ax.legend()\n",
    "\n",
    "plt.show() "
   ]
  },
  {
   "cell_type": "markdown",
   "id": "a315452a",
   "metadata": {},
   "source": [
    "多次实验可发现。\n",
    "\n",
    "隐层节点数为 2、3 时，训练效果不佳。\n",
    "\n",
    "隐层节点数越多，损失随着轮次的增加下降越快。\n",
    "\n",
    "隐层节点数大于等于 4 时，可以解决 XOR 问题。\n",
    "\n",
    "增加隐层节点数，可以避免不收敛。"
   ]
  }
 ],
 "metadata": {
  "kernelspec": {
   "display_name": "Python 3 (ipykernel)",
   "language": "python",
   "name": "python3"
  },
  "language_info": {
   "codemirror_mode": {
    "name": "ipython",
    "version": 3
   },
   "file_extension": ".py",
   "mimetype": "text/x-python",
   "name": "python",
   "nbconvert_exporter": "python",
   "pygments_lexer": "ipython3",
   "version": "3.7.16"
  }
 },
 "nbformat": 4,
 "nbformat_minor": 5
}
